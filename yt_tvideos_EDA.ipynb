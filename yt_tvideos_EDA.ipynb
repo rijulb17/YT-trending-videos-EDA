{
 "cells": [
  {
   "cell_type": "markdown",
   "metadata": {},
   "source": [
    "# Youtube-India-Trending-Videos Analysis\n",
    "\n",
    "In this analysis I have used kaggle dataset of trending YouTube videos for Indian region. YouTube is one the largest and most used video sharing platform. I am trying to analyse some general trends on this dataset. Personally, I spend a huge amount of my time on YouTube for entertainment, education and many other purposes and thats why i chose this dataset. I have used some popular python libraries such as numpy, pandas, matplotlib and seaborn for this analysis. "
   ]
  },
  {
   "cell_type": "markdown",
   "metadata": {},
   "source": [
    "## First step is to download the nescessary data.\n",
    "\n",
    "I downloaded the youtube dataset for indian region. I used csv file and json file to perform analysis. "
   ]
  },
  {
   "cell_type": "code",
   "execution_count": 2,
   "metadata": {},
   "outputs": [],
   "source": [
    "!pip install jovian opendatasets --upgrade --quiet"
   ]
  },
  {
   "cell_type": "code",
   "execution_count": 5,
   "metadata": {},
   "outputs": [],
   "source": [
    "project_name = \"youtube-trending-videos-analysis\" "
   ]
  },
  {
   "cell_type": "code",
   "execution_count": 2,
   "metadata": {},
   "outputs": [],
   "source": [
    "!pip install jovian --upgrade -q"
   ]
  },
  {
   "cell_type": "code",
   "execution_count": 3,
   "metadata": {},
   "outputs": [],
   "source": [
    "import jovian"
   ]
  },
  {
   "cell_type": "code",
   "execution_count": 6,
   "metadata": {},
   "outputs": [
    {
     "data": {
      "application/javascript": [
       "window.require && require([\"base/js/namespace\"],function(Jupyter){Jupyter.notebook.save_checkpoint()})"
      ],
      "text/plain": [
       "<IPython.core.display.Javascript object>"
      ]
     },
     "metadata": {},
     "output_type": "display_data"
    },
    {
     "name": "stdout",
     "output_type": "stream",
     "text": [
      "[jovian] Attempting to save notebook..\u001b[0m\n",
      "[jovian] Please enter your API key ( from https://jovian.ml/ ):\u001b[0m\n",
      "API KEY: ········\n",
      "[jovian] Updating notebook \"rijulbathla8/youtube-trending-videos-analysis\" on https://jovian.ml/\u001b[0m\n",
      "[jovian] Uploading notebook..\u001b[0m\n",
      "[jovian] Capturing environment..\u001b[0m\n",
      "[jovian] Committed successfully! https://jovian.ml/rijulbathla8/youtube-trending-videos-analysis\u001b[0m\n"
     ]
    },
    {
     "data": {
      "text/plain": [
       "'https://jovian.ml/rijulbathla8/youtube-trending-videos-analysis'"
      ]
     },
     "execution_count": 6,
     "metadata": {},
     "output_type": "execute_result"
    }
   ],
   "source": [
    "jovian.commit(project=project_name)"
   ]
  },
  {
   "cell_type": "markdown",
   "metadata": {},
   "source": [
    "## Data Preparation and Cleaning\n",
    "\n",
    "First i uploaded the dataset into jupyter notebook and had a look at it. I use some basic pandas operations to try to understand the data better. We drop the columns which we will not need in the dataset for this analysis. Then we clean the data for missing values and change the format of some columns into required one. After doing this we will begin with the exploratory analysis as the data is cleaned now. \n",
    "\n",
    "\n"
   ]
  },
  {
   "cell_type": "code",
   "execution_count": 7,
   "metadata": {},
   "outputs": [],
   "source": [
    "# Importing all the libraries"
   ]
  },
  {
   "cell_type": "code",
   "execution_count": 8,
   "metadata": {},
   "outputs": [],
   "source": [
    "import numpy as np\n",
    "import pandas as pd\n",
    "import matplotlib.pyplot as plt\n",
    "import seaborn as sns"
   ]
  },
  {
   "cell_type": "code",
   "execution_count": 9,
   "metadata": {},
   "outputs": [],
   "source": [
    "yt_trend_df = pd.read_csv('INvideos.csv')\n",
    "yt_in_categories = pd.read_json('IN_category_id.json')"
   ]
  },
  {
   "cell_type": "code",
   "execution_count": 12,
   "metadata": {},
   "outputs": [
    {
     "data": {
      "text/html": [
       "<div>\n",
       "<style scoped>\n",
       "    .dataframe tbody tr th:only-of-type {\n",
       "        vertical-align: middle;\n",
       "    }\n",
       "\n",
       "    .dataframe tbody tr th {\n",
       "        vertical-align: top;\n",
       "    }\n",
       "\n",
       "    .dataframe thead th {\n",
       "        text-align: right;\n",
       "    }\n",
       "</style>\n",
       "<table border=\"1\" class=\"dataframe\">\n",
       "  <thead>\n",
       "    <tr style=\"text-align: right;\">\n",
       "      <th></th>\n",
       "      <th>video_id</th>\n",
       "      <th>trending_date</th>\n",
       "      <th>title</th>\n",
       "      <th>channel_title</th>\n",
       "      <th>category_id</th>\n",
       "      <th>publish_time</th>\n",
       "      <th>tags</th>\n",
       "      <th>views</th>\n",
       "      <th>likes</th>\n",
       "      <th>dislikes</th>\n",
       "      <th>comment_count</th>\n",
       "      <th>thumbnail_link</th>\n",
       "      <th>comments_disabled</th>\n",
       "      <th>ratings_disabled</th>\n",
       "      <th>video_error_or_removed</th>\n",
       "      <th>description</th>\n",
       "    </tr>\n",
       "  </thead>\n",
       "  <tbody>\n",
       "    <tr>\n",
       "      <th>0</th>\n",
       "      <td>kzwfHumJyYc</td>\n",
       "      <td>17.14.11</td>\n",
       "      <td>Sharry Mann: Cute Munda ( Song Teaser) | Parmi...</td>\n",
       "      <td>Lokdhun Punjabi</td>\n",
       "      <td>1</td>\n",
       "      <td>2017-11-12T12:20:39.000Z</td>\n",
       "      <td>sharry mann|\"sharry mann new song\"|\"sharry man...</td>\n",
       "      <td>1096327</td>\n",
       "      <td>33966</td>\n",
       "      <td>798</td>\n",
       "      <td>882</td>\n",
       "      <td>https://i.ytimg.com/vi/kzwfHumJyYc/default.jpg</td>\n",
       "      <td>False</td>\n",
       "      <td>False</td>\n",
       "      <td>False</td>\n",
       "      <td>Presenting Sharry Mann latest Punjabi Song  Cu...</td>\n",
       "    </tr>\n",
       "    <tr>\n",
       "      <th>1</th>\n",
       "      <td>zUZ1z7FwLc8</td>\n",
       "      <td>17.14.11</td>\n",
       "      <td>पीरियड्स के समय, पेट पर पति करता ऐसा, देखकर दं...</td>\n",
       "      <td>HJ NEWS</td>\n",
       "      <td>25</td>\n",
       "      <td>2017-11-13T05:43:56.000Z</td>\n",
       "      <td>पीरियड्स के समय|\"पेट पर पति करता ऐसा\"|\"देखकर द...</td>\n",
       "      <td>590101</td>\n",
       "      <td>735</td>\n",
       "      <td>904</td>\n",
       "      <td>0</td>\n",
       "      <td>https://i.ytimg.com/vi/zUZ1z7FwLc8/default.jpg</td>\n",
       "      <td>True</td>\n",
       "      <td>False</td>\n",
       "      <td>False</td>\n",
       "      <td>पीरियड्स के समय, पेट पर पति करता ऐसा, देखकर दं...</td>\n",
       "    </tr>\n",
       "    <tr>\n",
       "      <th>2</th>\n",
       "      <td>10L1hZ9qa58</td>\n",
       "      <td>17.14.11</td>\n",
       "      <td>Stylish Star Allu Arjun @ ChaySam Wedding Rece...</td>\n",
       "      <td>TFPC</td>\n",
       "      <td>24</td>\n",
       "      <td>2017-11-12T15:48:08.000Z</td>\n",
       "      <td>Stylish Star Allu Arjun @ ChaySam Wedding Rece...</td>\n",
       "      <td>473988</td>\n",
       "      <td>2011</td>\n",
       "      <td>243</td>\n",
       "      <td>149</td>\n",
       "      <td>https://i.ytimg.com/vi/10L1hZ9qa58/default.jpg</td>\n",
       "      <td>False</td>\n",
       "      <td>False</td>\n",
       "      <td>False</td>\n",
       "      <td>Watch Stylish Star Allu Arjun @ ChaySam Weddin...</td>\n",
       "    </tr>\n",
       "    <tr>\n",
       "      <th>3</th>\n",
       "      <td>N1vE8iiEg64</td>\n",
       "      <td>17.14.11</td>\n",
       "      <td>Eruma Saani | Tamil vs English</td>\n",
       "      <td>Eruma Saani</td>\n",
       "      <td>23</td>\n",
       "      <td>2017-11-12T07:08:48.000Z</td>\n",
       "      <td>Eruma Saani|\"Tamil Comedy Videos\"|\"Films\"|\"Mov...</td>\n",
       "      <td>1242680</td>\n",
       "      <td>70353</td>\n",
       "      <td>1624</td>\n",
       "      <td>2684</td>\n",
       "      <td>https://i.ytimg.com/vi/N1vE8iiEg64/default.jpg</td>\n",
       "      <td>False</td>\n",
       "      <td>False</td>\n",
       "      <td>False</td>\n",
       "      <td>This video showcases the difference between pe...</td>\n",
       "    </tr>\n",
       "    <tr>\n",
       "      <th>4</th>\n",
       "      <td>kJzGH0PVQHQ</td>\n",
       "      <td>17.14.11</td>\n",
       "      <td>why Samantha became EMOTIONAL @ Samantha naga ...</td>\n",
       "      <td>Filmylooks</td>\n",
       "      <td>24</td>\n",
       "      <td>2017-11-13T01:14:16.000Z</td>\n",
       "      <td>Filmylooks|\"latest news\"|\"telugu movies\"|\"telu...</td>\n",
       "      <td>464015</td>\n",
       "      <td>492</td>\n",
       "      <td>293</td>\n",
       "      <td>66</td>\n",
       "      <td>https://i.ytimg.com/vi/kJzGH0PVQHQ/default.jpg</td>\n",
       "      <td>False</td>\n",
       "      <td>False</td>\n",
       "      <td>False</td>\n",
       "      <td>why Samantha became EMOTIONAL @ Samantha naga ...</td>\n",
       "    </tr>\n",
       "  </tbody>\n",
       "</table>\n",
       "</div>"
      ],
      "text/plain": [
       "      video_id trending_date  \\\n",
       "0  kzwfHumJyYc      17.14.11   \n",
       "1  zUZ1z7FwLc8      17.14.11   \n",
       "2  10L1hZ9qa58      17.14.11   \n",
       "3  N1vE8iiEg64      17.14.11   \n",
       "4  kJzGH0PVQHQ      17.14.11   \n",
       "\n",
       "                                               title    channel_title  \\\n",
       "0  Sharry Mann: Cute Munda ( Song Teaser) | Parmi...  Lokdhun Punjabi   \n",
       "1  पीरियड्स के समय, पेट पर पति करता ऐसा, देखकर दं...          HJ NEWS   \n",
       "2  Stylish Star Allu Arjun @ ChaySam Wedding Rece...             TFPC   \n",
       "3                     Eruma Saani | Tamil vs English      Eruma Saani   \n",
       "4  why Samantha became EMOTIONAL @ Samantha naga ...       Filmylooks   \n",
       "\n",
       "   category_id              publish_time  \\\n",
       "0            1  2017-11-12T12:20:39.000Z   \n",
       "1           25  2017-11-13T05:43:56.000Z   \n",
       "2           24  2017-11-12T15:48:08.000Z   \n",
       "3           23  2017-11-12T07:08:48.000Z   \n",
       "4           24  2017-11-13T01:14:16.000Z   \n",
       "\n",
       "                                                tags    views  likes  \\\n",
       "0  sharry mann|\"sharry mann new song\"|\"sharry man...  1096327  33966   \n",
       "1  पीरियड्स के समय|\"पेट पर पति करता ऐसा\"|\"देखकर द...   590101    735   \n",
       "2  Stylish Star Allu Arjun @ ChaySam Wedding Rece...   473988   2011   \n",
       "3  Eruma Saani|\"Tamil Comedy Videos\"|\"Films\"|\"Mov...  1242680  70353   \n",
       "4  Filmylooks|\"latest news\"|\"telugu movies\"|\"telu...   464015    492   \n",
       "\n",
       "   dislikes  comment_count                                  thumbnail_link  \\\n",
       "0       798            882  https://i.ytimg.com/vi/kzwfHumJyYc/default.jpg   \n",
       "1       904              0  https://i.ytimg.com/vi/zUZ1z7FwLc8/default.jpg   \n",
       "2       243            149  https://i.ytimg.com/vi/10L1hZ9qa58/default.jpg   \n",
       "3      1624           2684  https://i.ytimg.com/vi/N1vE8iiEg64/default.jpg   \n",
       "4       293             66  https://i.ytimg.com/vi/kJzGH0PVQHQ/default.jpg   \n",
       "\n",
       "   comments_disabled  ratings_disabled  video_error_or_removed  \\\n",
       "0              False             False                   False   \n",
       "1               True             False                   False   \n",
       "2              False             False                   False   \n",
       "3              False             False                   False   \n",
       "4              False             False                   False   \n",
       "\n",
       "                                         description  \n",
       "0  Presenting Sharry Mann latest Punjabi Song  Cu...  \n",
       "1  पीरियड्स के समय, पेट पर पति करता ऐसा, देखकर दं...  \n",
       "2  Watch Stylish Star Allu Arjun @ ChaySam Weddin...  \n",
       "3  This video showcases the difference between pe...  \n",
       "4  why Samantha became EMOTIONAL @ Samantha naga ...  "
      ]
     },
     "execution_count": 12,
     "metadata": {},
     "output_type": "execute_result"
    }
   ],
   "source": [
    "# To have a first look at first 5 rows of the data\n",
    "yt_trend_df.head(5)"
   ]
  },
  {
   "cell_type": "code",
   "execution_count": 13,
   "metadata": {},
   "outputs": [
    {
     "data": {
      "text/plain": [
       "Index(['video_id', 'trending_date', 'title', 'channel_title', 'category_id',\n",
       "       'publish_time', 'tags', 'views', 'likes', 'dislikes', 'comment_count',\n",
       "       'thumbnail_link', 'comments_disabled', 'ratings_disabled',\n",
       "       'video_error_or_removed', 'description'],\n",
       "      dtype='object')"
      ]
     },
     "execution_count": 13,
     "metadata": {},
     "output_type": "execute_result"
    }
   ],
   "source": [
    "# to get the columns in the orginal dataset\n",
    "yt_trend_df.columns\n"
   ]
  },
  {
   "cell_type": "code",
   "execution_count": 15,
   "metadata": {},
   "outputs": [],
   "source": [
    "# Removing the columns that are not required in this analysis\n",
    "yt_trend_df.drop(columns=['thumbnail_link','comments_disabled'],inplace=True)\n",
    "yt_trend_df.drop(columns=['tags'],inplace=True)\n",
    "yt_trend_df.drop(columns=['video_error_or_removed','ratings_disabled','description'],inplace=True)"
   ]
  },
  {
   "cell_type": "code",
   "execution_count": 16,
   "metadata": {},
   "outputs": [],
   "source": [
    "# As seen from the sample, i only have category_id and to get the names for categories i use json file"
   ]
  },
  {
   "cell_type": "code",
   "execution_count": 17,
   "metadata": {},
   "outputs": [],
   "source": [
    "categories = {category['id']: category['snippet']['title'] for category in yt_in_categories['items']}\n",
    "yt_trend_df.insert(4, 'category', yt_trend_df['category_id'].astype(str).map(categories))"
   ]
  },
  {
   "cell_type": "code",
   "execution_count": 18,
   "metadata": {},
   "outputs": [
    {
     "name": "stdout",
     "output_type": "stream",
     "text": [
      "<class 'pandas.core.frame.DataFrame'>\n",
      "RangeIndex: 37352 entries, 0 to 37351\n",
      "Data columns (total 11 columns):\n",
      " #   Column         Non-Null Count  Dtype \n",
      "---  ------         --------------  ----- \n",
      " 0   video_id       37352 non-null  object\n",
      " 1   trending_date  37352 non-null  object\n",
      " 2   title          37352 non-null  object\n",
      " 3   channel_title  37352 non-null  object\n",
      " 4   category       37247 non-null  object\n",
      " 5   category_id    37352 non-null  int64 \n",
      " 6   publish_time   37352 non-null  object\n",
      " 7   views          37352 non-null  int64 \n",
      " 8   likes          37352 non-null  int64 \n",
      " 9   dislikes       37352 non-null  int64 \n",
      " 10  comment_count  37352 non-null  int64 \n",
      "dtypes: int64(5), object(6)\n",
      "memory usage: 3.1+ MB\n"
     ]
    },
    {
     "data": {
      "text/plain": [
       "(37352, 11)"
      ]
     },
     "execution_count": 18,
     "metadata": {},
     "output_type": "execute_result"
    }
   ],
   "source": [
    "##Lets call the info() function to get the basic information of the data frame like total number of columns with nam ,data types etc.\n",
    "\n",
    "yt_trend_df.info()\n",
    "\n",
    "## .shape gives the tuple of the rows and the columns \n",
    "\n",
    "yt_trend_df.shape"
   ]
  },
  {
   "cell_type": "code",
   "execution_count": 19,
   "metadata": {},
   "outputs": [
    {
     "data": {
      "text/plain": [
       "video_id         16307\n",
       "trending_date      205\n",
       "title            16721\n",
       "channel_title     1426\n",
       "category            16\n",
       "category_id         17\n",
       "publish_time     16339\n",
       "views            32136\n",
       "likes            15529\n",
       "dislikes          5079\n",
       "comment_count     6027\n",
       "dtype: int64"
      ]
     },
     "execution_count": 19,
     "metadata": {},
     "output_type": "execute_result"
    }
   ],
   "source": [
    "## let find the nunique values in the data frame,it ignores the nan values\n",
    "\n",
    "\n",
    "yt_trend_df.nunique()"
   ]
  },
  {
   "cell_type": "code",
   "execution_count": 20,
   "metadata": {},
   "outputs": [],
   "source": [
    "# Removing the duplicates \n",
    "\n",
    "yt_trend_df = yt_trend_df.sort_values(['video_id','views'], ascending =[True,False]).drop_duplicates(['video_id']).reset_index(drop=True)"
   ]
  },
  {
   "cell_type": "code",
   "execution_count": 21,
   "metadata": {},
   "outputs": [
    {
     "data": {
      "text/html": [
       "<div>\n",
       "<style scoped>\n",
       "    .dataframe tbody tr th:only-of-type {\n",
       "        vertical-align: middle;\n",
       "    }\n",
       "\n",
       "    .dataframe tbody tr th {\n",
       "        vertical-align: top;\n",
       "    }\n",
       "\n",
       "    .dataframe thead th {\n",
       "        text-align: right;\n",
       "    }\n",
       "</style>\n",
       "<table border=\"1\" class=\"dataframe\">\n",
       "  <thead>\n",
       "    <tr style=\"text-align: right;\">\n",
       "      <th></th>\n",
       "      <th>video_id</th>\n",
       "      <th>trending_date</th>\n",
       "      <th>title</th>\n",
       "      <th>channel_title</th>\n",
       "      <th>category</th>\n",
       "      <th>category_id</th>\n",
       "      <th>publish_time</th>\n",
       "      <th>views</th>\n",
       "      <th>likes</th>\n",
       "      <th>dislikes</th>\n",
       "      <th>comment_count</th>\n",
       "    </tr>\n",
       "  </thead>\n",
       "  <tbody>\n",
       "    <tr>\n",
       "      <th>0</th>\n",
       "      <td>#NAME?</td>\n",
       "      <td>17.22.12</td>\n",
       "      <td>PADMAN Official Trailer | Akshay Kumar | Sonam...</td>\n",
       "      <td>Sony Pictures India</td>\n",
       "      <td>Entertainment</td>\n",
       "      <td>24</td>\n",
       "      <td>2017-12-15T05:27:25.000Z</td>\n",
       "      <td>28080774</td>\n",
       "      <td>450360</td>\n",
       "      <td>26383</td>\n",
       "      <td>29837</td>\n",
       "    </tr>\n",
       "    <tr>\n",
       "      <th>1</th>\n",
       "      <td>#VALUE!</td>\n",
       "      <td>18.12.03</td>\n",
       "      <td>ऐसे झूठ जिनको देख कर आप तुरंत विश्वास कर लेते ...</td>\n",
       "      <td>Rahasya</td>\n",
       "      <td>Education</td>\n",
       "      <td>27</td>\n",
       "      <td>2018-03-08T07:03:27.000Z</td>\n",
       "      <td>258163</td>\n",
       "      <td>8991</td>\n",
       "      <td>430</td>\n",
       "      <td>640</td>\n",
       "    </tr>\n",
       "    <tr>\n",
       "      <th>2</th>\n",
       "      <td>-0N9r10xb_0</td>\n",
       "      <td>17.20.11</td>\n",
       "      <td>19 नवंबर शनि अमावस्या के अगले दिन बड़ा रविवार ब...</td>\n",
       "      <td>Magical Nuskhe</td>\n",
       "      <td>Howto &amp; Style</td>\n",
       "      <td>26</td>\n",
       "      <td>2017-11-18T14:20:54.000Z</td>\n",
       "      <td>133438</td>\n",
       "      <td>1381</td>\n",
       "      <td>208</td>\n",
       "      <td>39</td>\n",
       "    </tr>\n",
       "    <tr>\n",
       "      <th>3</th>\n",
       "      <td>-0WuM6ctLHg</td>\n",
       "      <td>18.13.02</td>\n",
       "      <td>மிரளவைக்கும் 5 நம்பமுடியாத கண்டுபிடிப்புகள் | ...</td>\n",
       "      <td>Kollywood Talk</td>\n",
       "      <td>People &amp; Blogs</td>\n",
       "      <td>22</td>\n",
       "      <td>2018-02-10T08:07:15.000Z</td>\n",
       "      <td>333432</td>\n",
       "      <td>4086</td>\n",
       "      <td>161</td>\n",
       "      <td>96</td>\n",
       "    </tr>\n",
       "    <tr>\n",
       "      <th>4</th>\n",
       "      <td>-0mcgX4ro7I</td>\n",
       "      <td>18.17.03</td>\n",
       "      <td>Bhabi Ji Ghar Par Hain - भाबीजी घर पर हैं - Ep...</td>\n",
       "      <td>And TV</td>\n",
       "      <td>Entertainment</td>\n",
       "      <td>24</td>\n",
       "      <td>2018-03-15T00:28:23.000Z</td>\n",
       "      <td>245666</td>\n",
       "      <td>1169</td>\n",
       "      <td>134</td>\n",
       "      <td>79</td>\n",
       "    </tr>\n",
       "  </tbody>\n",
       "</table>\n",
       "</div>"
      ],
      "text/plain": [
       "      video_id trending_date  \\\n",
       "0       #NAME?      17.22.12   \n",
       "1      #VALUE!      18.12.03   \n",
       "2  -0N9r10xb_0      17.20.11   \n",
       "3  -0WuM6ctLHg      18.13.02   \n",
       "4  -0mcgX4ro7I      18.17.03   \n",
       "\n",
       "                                               title        channel_title  \\\n",
       "0  PADMAN Official Trailer | Akshay Kumar | Sonam...  Sony Pictures India   \n",
       "1  ऐसे झूठ जिनको देख कर आप तुरंत विश्वास कर लेते ...              Rahasya   \n",
       "2  19 नवंबर शनि अमावस्या के अगले दिन बड़ा रविवार ब...       Magical Nuskhe   \n",
       "3  மிரளவைக்கும் 5 நம்பமுடியாத கண்டுபிடிப்புகள் | ...       Kollywood Talk   \n",
       "4  Bhabi Ji Ghar Par Hain - भाबीजी घर पर हैं - Ep...               And TV   \n",
       "\n",
       "         category  category_id              publish_time     views   likes  \\\n",
       "0   Entertainment           24  2017-12-15T05:27:25.000Z  28080774  450360   \n",
       "1       Education           27  2018-03-08T07:03:27.000Z    258163    8991   \n",
       "2   Howto & Style           26  2017-11-18T14:20:54.000Z    133438    1381   \n",
       "3  People & Blogs           22  2018-02-10T08:07:15.000Z    333432    4086   \n",
       "4   Entertainment           24  2018-03-15T00:28:23.000Z    245666    1169   \n",
       "\n",
       "   dislikes  comment_count  \n",
       "0     26383          29837  \n",
       "1       430            640  \n",
       "2       208             39  \n",
       "3       161             96  \n",
       "4       134             79  "
      ]
     },
     "execution_count": 21,
     "metadata": {},
     "output_type": "execute_result"
    }
   ],
   "source": [
    "yt_trend_df.head()"
   ]
  },
  {
   "cell_type": "code",
   "execution_count": 23,
   "metadata": {},
   "outputs": [
    {
     "data": {
      "text/plain": [
       "video_id          0\n",
       "trending_date     0\n",
       "title             0\n",
       "channel_title     0\n",
       "category         69\n",
       "category_id       0\n",
       "publish_time      0\n",
       "views             0\n",
       "likes             0\n",
       "dislikes          0\n",
       "comment_count     0\n",
       "dtype: int64"
      ]
     },
     "execution_count": 23,
     "metadata": {},
     "output_type": "execute_result"
    }
   ],
   "source": [
    "# Checking for null values\n",
    "\n",
    "yt_trend_df.isnull().sum()\n"
   ]
  },
  {
   "cell_type": "code",
   "execution_count": 24,
   "metadata": {},
   "outputs": [],
   "source": [
    "# Replacing the null with miscellaneous in the category column \n",
    "\n",
    "null_df = yt_trend_df[yt_trend_df[\"category\"].isnull()] "
   ]
  },
  {
   "cell_type": "code",
   "execution_count": 25,
   "metadata": {},
   "outputs": [
    {
     "data": {
      "text/html": [
       "<div>\n",
       "<style scoped>\n",
       "    .dataframe tbody tr th:only-of-type {\n",
       "        vertical-align: middle;\n",
       "    }\n",
       "\n",
       "    .dataframe tbody tr th {\n",
       "        vertical-align: top;\n",
       "    }\n",
       "\n",
       "    .dataframe thead th {\n",
       "        text-align: right;\n",
       "    }\n",
       "</style>\n",
       "<table border=\"1\" class=\"dataframe\">\n",
       "  <thead>\n",
       "    <tr style=\"text-align: right;\">\n",
       "      <th></th>\n",
       "      <th>video_id</th>\n",
       "      <th>trending_date</th>\n",
       "      <th>title</th>\n",
       "      <th>channel_title</th>\n",
       "      <th>category</th>\n",
       "      <th>category_id</th>\n",
       "      <th>publish_time</th>\n",
       "      <th>views</th>\n",
       "      <th>likes</th>\n",
       "      <th>dislikes</th>\n",
       "      <th>comment_count</th>\n",
       "    </tr>\n",
       "  </thead>\n",
       "  <tbody>\n",
       "    <tr>\n",
       "      <th>20</th>\n",
       "      <td>-2t-dA15iVU</td>\n",
       "      <td>17.04.12</td>\n",
       "      <td>ANUGRAH TV 03-12-2017 A NEW BEGINNING DAY-2 Su...</td>\n",
       "      <td>Ankur Narula Ministries</td>\n",
       "      <td>Miscellaneous</td>\n",
       "      <td>29</td>\n",
       "      <td>2017-12-03T12:02:34.000Z</td>\n",
       "      <td>15338</td>\n",
       "      <td>877</td>\n",
       "      <td>24</td>\n",
       "      <td>146</td>\n",
       "    </tr>\n",
       "    <tr>\n",
       "      <th>214</th>\n",
       "      <td>0eSiddTE0Oo</td>\n",
       "      <td>18.15.02</td>\n",
       "      <td>Mahashivratri 2018 Celebrations with Gurudev S...</td>\n",
       "      <td>Sri Sri Ravi Shankar</td>\n",
       "      <td>Miscellaneous</td>\n",
       "      <td>29</td>\n",
       "      <td>2018-02-13T18:02:03.000Z</td>\n",
       "      <td>112423</td>\n",
       "      <td>3307</td>\n",
       "      <td>108</td>\n",
       "      <td>0</td>\n",
       "    </tr>\n",
       "    <tr>\n",
       "      <th>731</th>\n",
       "      <td>2eiBztJHjBY</td>\n",
       "      <td>17.18.11</td>\n",
       "      <td>ਅਸੀਂ ਜਥੇਦਾਰਾਂ ਨੂੰ ਸੀਡੀਆਂ ਨਹੀਂ ਭੇਜਣੀਆਂ | Assi J...</td>\n",
       "      <td>Emm Pee</td>\n",
       "      <td>Miscellaneous</td>\n",
       "      <td>29</td>\n",
       "      <td>2017-11-15T15:31:16.000Z</td>\n",
       "      <td>89196</td>\n",
       "      <td>0</td>\n",
       "      <td>0</td>\n",
       "      <td>0</td>\n",
       "    </tr>\n",
       "    <tr>\n",
       "      <th>1116</th>\n",
       "      <td>408bdj7PN18</td>\n",
       "      <td>18.12.01</td>\n",
       "      <td>Gurudev: On the Plateau of the Peak</td>\n",
       "      <td>Sri Sri Ravi Shankar</td>\n",
       "      <td>Miscellaneous</td>\n",
       "      <td>29</td>\n",
       "      <td>2018-01-11T15:55:58.000Z</td>\n",
       "      <td>11864</td>\n",
       "      <td>801</td>\n",
       "      <td>11</td>\n",
       "      <td>4</td>\n",
       "    </tr>\n",
       "    <tr>\n",
       "      <th>1326</th>\n",
       "      <td>4r4rErKcQeU</td>\n",
       "      <td>17.20.11</td>\n",
       "      <td>ANUGRAH TV- 19-11-2017 Sunday Meeting Live Stream</td>\n",
       "      <td>Ankur Narula Ministries</td>\n",
       "      <td>Miscellaneous</td>\n",
       "      <td>29</td>\n",
       "      <td>2017-11-19T12:12:47.000Z</td>\n",
       "      <td>12808</td>\n",
       "      <td>719</td>\n",
       "      <td>13</td>\n",
       "      <td>60</td>\n",
       "    </tr>\n",
       "    <tr>\n",
       "      <th>...</th>\n",
       "      <td>...</td>\n",
       "      <td>...</td>\n",
       "      <td>...</td>\n",
       "      <td>...</td>\n",
       "      <td>...</td>\n",
       "      <td>...</td>\n",
       "      <td>...</td>\n",
       "      <td>...</td>\n",
       "      <td>...</td>\n",
       "      <td>...</td>\n",
       "      <td>...</td>\n",
       "    </tr>\n",
       "    <tr>\n",
       "      <th>15642</th>\n",
       "      <td>xCmxRn0cj-E</td>\n",
       "      <td>18.14.03</td>\n",
       "      <td>Full Diwan | Rampura Phul | Day 2 | 11 March 2...</td>\n",
       "      <td>Emm Pee</td>\n",
       "      <td>Miscellaneous</td>\n",
       "      <td>29</td>\n",
       "      <td>2018-03-11T18:05:33.000Z</td>\n",
       "      <td>56981</td>\n",
       "      <td>0</td>\n",
       "      <td>0</td>\n",
       "      <td>0</td>\n",
       "    </tr>\n",
       "    <tr>\n",
       "      <th>15743</th>\n",
       "      <td>xfBptMVQy4g</td>\n",
       "      <td>18.07.05</td>\n",
       "      <td>LIVE STREAMING | Parmeshar Dwar Monthly Diwan ...</td>\n",
       "      <td>Emm Pee</td>\n",
       "      <td>Miscellaneous</td>\n",
       "      <td>29</td>\n",
       "      <td>2018-05-05T19:27:38.000Z</td>\n",
       "      <td>77914</td>\n",
       "      <td>2685</td>\n",
       "      <td>126</td>\n",
       "      <td>0</td>\n",
       "    </tr>\n",
       "    <tr>\n",
       "      <th>15827</th>\n",
       "      <td>xzEbOteUiRY</td>\n",
       "      <td>17.15.11</td>\n",
       "      <td>ਅੰਮ੍ਰਿਤਸਰ” ਵਿੱਚ ਦੀਵਾਨ ਲਗਾਉਣਾ ਸਾਡਾ ਮਕਸਦ ਨਹੀਂ, ਸ...</td>\n",
       "      <td>Emm Pee</td>\n",
       "      <td>Miscellaneous</td>\n",
       "      <td>29</td>\n",
       "      <td>2017-11-12T22:34:25.000Z</td>\n",
       "      <td>73442</td>\n",
       "      <td>0</td>\n",
       "      <td>0</td>\n",
       "      <td>0</td>\n",
       "    </tr>\n",
       "    <tr>\n",
       "      <th>16105</th>\n",
       "      <td>z4aeaw3BH8Y</td>\n",
       "      <td>17.18.11</td>\n",
       "      <td>इसी जन्म में अगले जन्म का  इंश्योरेंस - Story ...</td>\n",
       "      <td>Sri Sri Ravi Shankar</td>\n",
       "      <td>Miscellaneous</td>\n",
       "      <td>29</td>\n",
       "      <td>2017-11-16T16:13:49.000Z</td>\n",
       "      <td>17699</td>\n",
       "      <td>1225</td>\n",
       "      <td>4</td>\n",
       "      <td>23</td>\n",
       "    </tr>\n",
       "    <tr>\n",
       "      <th>16221</th>\n",
       "      <td>zYfd6jJ7apg</td>\n",
       "      <td>18.12.05</td>\n",
       "      <td>LIVE STREAMING | Day 1 | Malaysia Samagam | G....</td>\n",
       "      <td>Emm Pee</td>\n",
       "      <td>Miscellaneous</td>\n",
       "      <td>29</td>\n",
       "      <td>2018-05-11T15:00:59.000Z</td>\n",
       "      <td>48723</td>\n",
       "      <td>2349</td>\n",
       "      <td>74</td>\n",
       "      <td>0</td>\n",
       "    </tr>\n",
       "  </tbody>\n",
       "</table>\n",
       "<p>69 rows × 11 columns</p>\n",
       "</div>"
      ],
      "text/plain": [
       "          video_id trending_date  \\\n",
       "20     -2t-dA15iVU      17.04.12   \n",
       "214    0eSiddTE0Oo      18.15.02   \n",
       "731    2eiBztJHjBY      17.18.11   \n",
       "1116   408bdj7PN18      18.12.01   \n",
       "1326   4r4rErKcQeU      17.20.11   \n",
       "...            ...           ...   \n",
       "15642  xCmxRn0cj-E      18.14.03   \n",
       "15743  xfBptMVQy4g      18.07.05   \n",
       "15827  xzEbOteUiRY      17.15.11   \n",
       "16105  z4aeaw3BH8Y      17.18.11   \n",
       "16221  zYfd6jJ7apg      18.12.05   \n",
       "\n",
       "                                                   title  \\\n",
       "20     ANUGRAH TV 03-12-2017 A NEW BEGINNING DAY-2 Su...   \n",
       "214    Mahashivratri 2018 Celebrations with Gurudev S...   \n",
       "731    ਅਸੀਂ ਜਥੇਦਾਰਾਂ ਨੂੰ ਸੀਡੀਆਂ ਨਹੀਂ ਭੇਜਣੀਆਂ | Assi J...   \n",
       "1116                 Gurudev: On the Plateau of the Peak   \n",
       "1326   ANUGRAH TV- 19-11-2017 Sunday Meeting Live Stream   \n",
       "...                                                  ...   \n",
       "15642  Full Diwan | Rampura Phul | Day 2 | 11 March 2...   \n",
       "15743  LIVE STREAMING | Parmeshar Dwar Monthly Diwan ...   \n",
       "15827  ਅੰਮ੍ਰਿਤਸਰ” ਵਿੱਚ ਦੀਵਾਨ ਲਗਾਉਣਾ ਸਾਡਾ ਮਕਸਦ ਨਹੀਂ, ਸ...   \n",
       "16105  इसी जन्म में अगले जन्म का  इंश्योरेंस - Story ...   \n",
       "16221  LIVE STREAMING | Day 1 | Malaysia Samagam | G....   \n",
       "\n",
       "                 channel_title       category  category_id  \\\n",
       "20     Ankur Narula Ministries  Miscellaneous           29   \n",
       "214       Sri Sri Ravi Shankar  Miscellaneous           29   \n",
       "731                    Emm Pee  Miscellaneous           29   \n",
       "1116      Sri Sri Ravi Shankar  Miscellaneous           29   \n",
       "1326   Ankur Narula Ministries  Miscellaneous           29   \n",
       "...                        ...            ...          ...   \n",
       "15642                  Emm Pee  Miscellaneous           29   \n",
       "15743                  Emm Pee  Miscellaneous           29   \n",
       "15827                  Emm Pee  Miscellaneous           29   \n",
       "16105     Sri Sri Ravi Shankar  Miscellaneous           29   \n",
       "16221                  Emm Pee  Miscellaneous           29   \n",
       "\n",
       "                   publish_time   views  likes  dislikes  comment_count  \n",
       "20     2017-12-03T12:02:34.000Z   15338    877        24            146  \n",
       "214    2018-02-13T18:02:03.000Z  112423   3307       108              0  \n",
       "731    2017-11-15T15:31:16.000Z   89196      0         0              0  \n",
       "1116   2018-01-11T15:55:58.000Z   11864    801        11              4  \n",
       "1326   2017-11-19T12:12:47.000Z   12808    719        13             60  \n",
       "...                         ...     ...    ...       ...            ...  \n",
       "15642  2018-03-11T18:05:33.000Z   56981      0         0              0  \n",
       "15743  2018-05-05T19:27:38.000Z   77914   2685       126              0  \n",
       "15827  2017-11-12T22:34:25.000Z   73442      0         0              0  \n",
       "16105  2017-11-16T16:13:49.000Z   17699   1225         4             23  \n",
       "16221  2018-05-11T15:00:59.000Z   48723   2349        74              0  \n",
       "\n",
       "[69 rows x 11 columns]"
      ]
     },
     "execution_count": 25,
     "metadata": {},
     "output_type": "execute_result"
    }
   ],
   "source": [
    "yt_trend_df[\"category\"].fillna(\"Miscellaneous\", inplace = True) \n",
    "yt_trend_df[yt_trend_df[\"category_id\"]  == 29]"
   ]
  },
  {
   "cell_type": "code",
   "execution_count": 26,
   "metadata": {},
   "outputs": [],
   "source": [
    "# Adding some additional columns\n",
    "\n",
    "yt_trend_df['ld_ratio'] = yt_trend_df.likes/yt_trend_df.dislikes  # Likes to dislike ratio\n",
    "yt_trend_df['react_no(%age)'] = ((yt_trend_df.likes + yt_trend_df.dislikes +yt_trend_df.comment_count)/yt_trend_df.views)*100 \n",
    "# ratio of the number of people that reacted(liked, disliked or commented) on the video"
   ]
  },
  {
   "cell_type": "code",
   "execution_count": 27,
   "metadata": {},
   "outputs": [
    {
     "data": {
      "text/html": [
       "<div>\n",
       "<style scoped>\n",
       "    .dataframe tbody tr th:only-of-type {\n",
       "        vertical-align: middle;\n",
       "    }\n",
       "\n",
       "    .dataframe tbody tr th {\n",
       "        vertical-align: top;\n",
       "    }\n",
       "\n",
       "    .dataframe thead th {\n",
       "        text-align: right;\n",
       "    }\n",
       "</style>\n",
       "<table border=\"1\" class=\"dataframe\">\n",
       "  <thead>\n",
       "    <tr style=\"text-align: right;\">\n",
       "      <th></th>\n",
       "      <th>video_id</th>\n",
       "      <th>trending_date</th>\n",
       "      <th>title</th>\n",
       "      <th>channel_title</th>\n",
       "      <th>category</th>\n",
       "      <th>category_id</th>\n",
       "      <th>publish_time</th>\n",
       "      <th>views</th>\n",
       "      <th>likes</th>\n",
       "      <th>dislikes</th>\n",
       "      <th>comment_count</th>\n",
       "      <th>ld_ratio</th>\n",
       "      <th>react_no(%age)</th>\n",
       "    </tr>\n",
       "  </thead>\n",
       "  <tbody>\n",
       "    <tr>\n",
       "      <th>0</th>\n",
       "      <td>#NAME?</td>\n",
       "      <td>17.22.12</td>\n",
       "      <td>PADMAN Official Trailer | Akshay Kumar | Sonam...</td>\n",
       "      <td>Sony Pictures India</td>\n",
       "      <td>Entertainment</td>\n",
       "      <td>24</td>\n",
       "      <td>2017-12-15T05:27:25.000Z</td>\n",
       "      <td>28080774</td>\n",
       "      <td>450360</td>\n",
       "      <td>26383</td>\n",
       "      <td>29837</td>\n",
       "      <td>17.070083</td>\n",
       "      <td>1.804010</td>\n",
       "    </tr>\n",
       "    <tr>\n",
       "      <th>1</th>\n",
       "      <td>#VALUE!</td>\n",
       "      <td>18.12.03</td>\n",
       "      <td>ऐसे झूठ जिनको देख कर आप तुरंत विश्वास कर लेते ...</td>\n",
       "      <td>Rahasya</td>\n",
       "      <td>Education</td>\n",
       "      <td>27</td>\n",
       "      <td>2018-03-08T07:03:27.000Z</td>\n",
       "      <td>258163</td>\n",
       "      <td>8991</td>\n",
       "      <td>430</td>\n",
       "      <td>640</td>\n",
       "      <td>20.909302</td>\n",
       "      <td>3.897150</td>\n",
       "    </tr>\n",
       "    <tr>\n",
       "      <th>2</th>\n",
       "      <td>-0N9r10xb_0</td>\n",
       "      <td>17.20.11</td>\n",
       "      <td>19 नवंबर शनि अमावस्या के अगले दिन बड़ा रविवार ब...</td>\n",
       "      <td>Magical Nuskhe</td>\n",
       "      <td>Howto &amp; Style</td>\n",
       "      <td>26</td>\n",
       "      <td>2017-11-18T14:20:54.000Z</td>\n",
       "      <td>133438</td>\n",
       "      <td>1381</td>\n",
       "      <td>208</td>\n",
       "      <td>39</td>\n",
       "      <td>6.639423</td>\n",
       "      <td>1.220042</td>\n",
       "    </tr>\n",
       "    <tr>\n",
       "      <th>3</th>\n",
       "      <td>-0WuM6ctLHg</td>\n",
       "      <td>18.13.02</td>\n",
       "      <td>மிரளவைக்கும் 5 நம்பமுடியாத கண்டுபிடிப்புகள் | ...</td>\n",
       "      <td>Kollywood Talk</td>\n",
       "      <td>People &amp; Blogs</td>\n",
       "      <td>22</td>\n",
       "      <td>2018-02-10T08:07:15.000Z</td>\n",
       "      <td>333432</td>\n",
       "      <td>4086</td>\n",
       "      <td>161</td>\n",
       "      <td>96</td>\n",
       "      <td>25.378882</td>\n",
       "      <td>1.302514</td>\n",
       "    </tr>\n",
       "    <tr>\n",
       "      <th>4</th>\n",
       "      <td>-0mcgX4ro7I</td>\n",
       "      <td>18.17.03</td>\n",
       "      <td>Bhabi Ji Ghar Par Hain - भाबीजी घर पर हैं - Ep...</td>\n",
       "      <td>And TV</td>\n",
       "      <td>Entertainment</td>\n",
       "      <td>24</td>\n",
       "      <td>2018-03-15T00:28:23.000Z</td>\n",
       "      <td>245666</td>\n",
       "      <td>1169</td>\n",
       "      <td>134</td>\n",
       "      <td>79</td>\n",
       "      <td>8.723881</td>\n",
       "      <td>0.562552</td>\n",
       "    </tr>\n",
       "  </tbody>\n",
       "</table>\n",
       "</div>"
      ],
      "text/plain": [
       "      video_id trending_date  \\\n",
       "0       #NAME?      17.22.12   \n",
       "1      #VALUE!      18.12.03   \n",
       "2  -0N9r10xb_0      17.20.11   \n",
       "3  -0WuM6ctLHg      18.13.02   \n",
       "4  -0mcgX4ro7I      18.17.03   \n",
       "\n",
       "                                               title        channel_title  \\\n",
       "0  PADMAN Official Trailer | Akshay Kumar | Sonam...  Sony Pictures India   \n",
       "1  ऐसे झूठ जिनको देख कर आप तुरंत विश्वास कर लेते ...              Rahasya   \n",
       "2  19 नवंबर शनि अमावस्या के अगले दिन बड़ा रविवार ब...       Magical Nuskhe   \n",
       "3  மிரளவைக்கும் 5 நம்பமுடியாத கண்டுபிடிப்புகள் | ...       Kollywood Talk   \n",
       "4  Bhabi Ji Ghar Par Hain - भाबीजी घर पर हैं - Ep...               And TV   \n",
       "\n",
       "         category  category_id              publish_time     views   likes  \\\n",
       "0   Entertainment           24  2017-12-15T05:27:25.000Z  28080774  450360   \n",
       "1       Education           27  2018-03-08T07:03:27.000Z    258163    8991   \n",
       "2   Howto & Style           26  2017-11-18T14:20:54.000Z    133438    1381   \n",
       "3  People & Blogs           22  2018-02-10T08:07:15.000Z    333432    4086   \n",
       "4   Entertainment           24  2018-03-15T00:28:23.000Z    245666    1169   \n",
       "\n",
       "   dislikes  comment_count   ld_ratio  react_no(%age)  \n",
       "0     26383          29837  17.070083        1.804010  \n",
       "1       430            640  20.909302        3.897150  \n",
       "2       208             39   6.639423        1.220042  \n",
       "3       161             96  25.378882        1.302514  \n",
       "4       134             79   8.723881        0.562552  "
      ]
     },
     "execution_count": 27,
     "metadata": {},
     "output_type": "execute_result"
    }
   ],
   "source": [
    "yt_trend_df.head()"
   ]
  },
  {
   "cell_type": "code",
   "execution_count": 29,
   "metadata": {},
   "outputs": [],
   "source": [
    "# taking care of ld ratio null values\n",
    "\n",
    "yt_trend_df['ld_ratio'].fillna(0,inplace = True) "
   ]
  },
  {
   "cell_type": "code",
   "execution_count": 30,
   "metadata": {},
   "outputs": [],
   "source": [
    "# Changing date format to datetime64 format\n",
    "\n",
    "yt_trend_df.publish_time = yt_trend_df.publish_time.str.split('T').str[0].str.strip()\n",
    "\n",
    "# To get publish date in the correct format\n",
    "yt_trend_df['p_date'] = pd.to_datetime(yt_trend_df['publish_time'])\n",
    "\n",
    "# To get the trending date in correct format\n",
    "yt_trend_df['t_date'] = pd.to_datetime(yt_trend_df['trending_date'],format='%y.%d.%m')\n",
    "\n",
    "# To have an additional column as the days to reach the trending list\n",
    "yt_trend_df['days_till_trend'] = yt_trend_df['t_date'] - yt_trend_df['p_date']"
   ]
  },
  {
   "cell_type": "code",
   "execution_count": 32,
   "metadata": {},
   "outputs": [],
   "source": [
    "# to have days in int format\n",
    "yt_trend_df['days'] = yt_trend_df.days_till_trend.dt.days\n",
    "\n",
    "# also having an index as an column\n",
    "yt_trend_df['index'] = yt_trend_df.index + 1"
   ]
  },
  {
   "cell_type": "code",
   "execution_count": 38,
   "metadata": {},
   "outputs": [
    {
     "data": {
      "text/html": [
       "<div>\n",
       "<style scoped>\n",
       "    .dataframe tbody tr th:only-of-type {\n",
       "        vertical-align: middle;\n",
       "    }\n",
       "\n",
       "    .dataframe tbody tr th {\n",
       "        vertical-align: top;\n",
       "    }\n",
       "\n",
       "    .dataframe thead th {\n",
       "        text-align: right;\n",
       "    }\n",
       "</style>\n",
       "<table border=\"1\" class=\"dataframe\">\n",
       "  <thead>\n",
       "    <tr style=\"text-align: right;\">\n",
       "      <th></th>\n",
       "      <th>category_id</th>\n",
       "      <th>views</th>\n",
       "      <th>likes</th>\n",
       "      <th>dislikes</th>\n",
       "      <th>comment_count</th>\n",
       "      <th>ld_ratio</th>\n",
       "      <th>react_no(%age)</th>\n",
       "      <th>days_till_trend</th>\n",
       "      <th>days</th>\n",
       "      <th>index</th>\n",
       "    </tr>\n",
       "  </thead>\n",
       "  <tbody>\n",
       "    <tr>\n",
       "      <th>count</th>\n",
       "      <td>16307.000000</td>\n",
       "      <td>1.630700e+04</td>\n",
       "      <td>1.630700e+04</td>\n",
       "      <td>1.630700e+04</td>\n",
       "      <td>16307.000000</td>\n",
       "      <td>1.630700e+04</td>\n",
       "      <td>16307.000000</td>\n",
       "      <td>16307</td>\n",
       "      <td>16307.000000</td>\n",
       "      <td>16307.000000</td>\n",
       "    </tr>\n",
       "    <tr>\n",
       "      <th>mean</th>\n",
       "      <td>22.396946</td>\n",
       "      <td>6.853477e+05</td>\n",
       "      <td>1.448582e+04</td>\n",
       "      <td>9.589194e+02</td>\n",
       "      <td>1484.703992</td>\n",
       "      <td>inf</td>\n",
       "      <td>2.187645</td>\n",
       "      <td>2 days 07:07:02.763230514</td>\n",
       "      <td>2.296560</td>\n",
       "      <td>8154.000000</td>\n",
       "    </tr>\n",
       "    <tr>\n",
       "      <th>std</th>\n",
       "      <td>5.932382</td>\n",
       "      <td>2.372791e+06</td>\n",
       "      <td>6.704034e+04</td>\n",
       "      <td>1.264481e+04</td>\n",
       "      <td>10413.870727</td>\n",
       "      <td>NaN</td>\n",
       "      <td>3.100099</td>\n",
       "      <td>2 days 04:57:21.307599561</td>\n",
       "      <td>2.206497</td>\n",
       "      <td>4707.569755</td>\n",
       "    </tr>\n",
       "    <tr>\n",
       "      <th>min</th>\n",
       "      <td>1.000000</td>\n",
       "      <td>4.024000e+03</td>\n",
       "      <td>0.000000e+00</td>\n",
       "      <td>0.000000e+00</td>\n",
       "      <td>0.000000</td>\n",
       "      <td>0.000000e+00</td>\n",
       "      <td>0.000000</td>\n",
       "      <td>0 days 00:00:00</td>\n",
       "      <td>0.000000</td>\n",
       "      <td>1.000000</td>\n",
       "    </tr>\n",
       "    <tr>\n",
       "      <th>25%</th>\n",
       "      <td>23.000000</td>\n",
       "      <td>8.859200e+04</td>\n",
       "      <td>5.610000e+02</td>\n",
       "      <td>6.900000e+01</td>\n",
       "      <td>47.000000</td>\n",
       "      <td>4.551014e+00</td>\n",
       "      <td>0.499550</td>\n",
       "      <td>1 days 00:00:00</td>\n",
       "      <td>1.000000</td>\n",
       "      <td>4077.500000</td>\n",
       "    </tr>\n",
       "    <tr>\n",
       "      <th>50%</th>\n",
       "      <td>24.000000</td>\n",
       "      <td>2.058000e+05</td>\n",
       "      <td>1.744000e+03</td>\n",
       "      <td>1.940000e+02</td>\n",
       "      <td>195.000000</td>\n",
       "      <td>8.932476e+00</td>\n",
       "      <td>0.936234</td>\n",
       "      <td>2 days 00:00:00</td>\n",
       "      <td>2.000000</td>\n",
       "      <td>8154.000000</td>\n",
       "    </tr>\n",
       "    <tr>\n",
       "      <th>75%</th>\n",
       "      <td>25.000000</td>\n",
       "      <td>5.295160e+05</td>\n",
       "      <td>6.460000e+03</td>\n",
       "      <td>5.910000e+02</td>\n",
       "      <td>700.000000</td>\n",
       "      <td>1.978354e+01</td>\n",
       "      <td>2.543294</td>\n",
       "      <td>3 days 00:00:00</td>\n",
       "      <td>3.000000</td>\n",
       "      <td>12230.500000</td>\n",
       "    </tr>\n",
       "    <tr>\n",
       "      <th>max</th>\n",
       "      <td>43.000000</td>\n",
       "      <td>1.254322e+08</td>\n",
       "      <td>2.912710e+06</td>\n",
       "      <td>1.545017e+06</td>\n",
       "      <td>807558.000000</td>\n",
       "      <td>inf</td>\n",
       "      <td>65.245867</td>\n",
       "      <td>221 days 00:00:00</td>\n",
       "      <td>221.000000</td>\n",
       "      <td>16307.000000</td>\n",
       "    </tr>\n",
       "  </tbody>\n",
       "</table>\n",
       "</div>"
      ],
      "text/plain": [
       "        category_id         views         likes      dislikes  comment_count  \\\n",
       "count  16307.000000  1.630700e+04  1.630700e+04  1.630700e+04   16307.000000   \n",
       "mean      22.396946  6.853477e+05  1.448582e+04  9.589194e+02    1484.703992   \n",
       "std        5.932382  2.372791e+06  6.704034e+04  1.264481e+04   10413.870727   \n",
       "min        1.000000  4.024000e+03  0.000000e+00  0.000000e+00       0.000000   \n",
       "25%       23.000000  8.859200e+04  5.610000e+02  6.900000e+01      47.000000   \n",
       "50%       24.000000  2.058000e+05  1.744000e+03  1.940000e+02     195.000000   \n",
       "75%       25.000000  5.295160e+05  6.460000e+03  5.910000e+02     700.000000   \n",
       "max       43.000000  1.254322e+08  2.912710e+06  1.545017e+06  807558.000000   \n",
       "\n",
       "           ld_ratio  react_no(%age)            days_till_trend          days  \\\n",
       "count  1.630700e+04    16307.000000                      16307  16307.000000   \n",
       "mean            inf        2.187645  2 days 07:07:02.763230514      2.296560   \n",
       "std             NaN        3.100099  2 days 04:57:21.307599561      2.206497   \n",
       "min    0.000000e+00        0.000000            0 days 00:00:00      0.000000   \n",
       "25%    4.551014e+00        0.499550            1 days 00:00:00      1.000000   \n",
       "50%    8.932476e+00        0.936234            2 days 00:00:00      2.000000   \n",
       "75%    1.978354e+01        2.543294            3 days 00:00:00      3.000000   \n",
       "max             inf       65.245867          221 days 00:00:00    221.000000   \n",
       "\n",
       "              index  \n",
       "count  16307.000000  \n",
       "mean    8154.000000  \n",
       "std     4707.569755  \n",
       "min        1.000000  \n",
       "25%     4077.500000  \n",
       "50%     8154.000000  \n",
       "75%    12230.500000  \n",
       "max    16307.000000  "
      ]
     },
     "execution_count": 38,
     "metadata": {},
     "output_type": "execute_result"
    }
   ],
   "source": [
    "# Using describe() to get some statistics on numeric data.\n",
    "\n",
    "yt_trend_df.describe()"
   ]
  },
  {
   "cell_type": "markdown",
   "metadata": {},
   "source": [
    "Dataset is cleaned and preprocessed to be used for exploratory analysis"
   ]
  },
  {
   "cell_type": "code",
   "execution_count": 33,
   "metadata": {},
   "outputs": [],
   "source": [
    "import jovian"
   ]
  },
  {
   "cell_type": "code",
   "execution_count": 34,
   "metadata": {},
   "outputs": [
    {
     "data": {
      "application/javascript": [
       "window.require && require([\"base/js/namespace\"],function(Jupyter){Jupyter.notebook.save_checkpoint()})"
      ],
      "text/plain": [
       "<IPython.core.display.Javascript object>"
      ]
     },
     "metadata": {},
     "output_type": "display_data"
    },
    {
     "name": "stdout",
     "output_type": "stream",
     "text": [
      "[jovian] Attempting to save notebook..\u001b[0m\n",
      "[jovian] Updating notebook \"rijulbathla8/youtube-trending-videos-analysis\" on https://jovian.ml/\u001b[0m\n",
      "[jovian] Uploading notebook..\u001b[0m\n",
      "[jovian] Capturing environment..\u001b[0m\n",
      "[jovian] Committed successfully! https://jovian.ml/rijulbathla8/youtube-trending-videos-analysis\u001b[0m\n"
     ]
    },
    {
     "data": {
      "text/plain": [
       "'https://jovian.ml/rijulbathla8/youtube-trending-videos-analysis'"
      ]
     },
     "execution_count": 34,
     "metadata": {},
     "output_type": "execute_result"
    }
   ],
   "source": [
    "jovian.commit()"
   ]
  },
  {
   "cell_type": "markdown",
   "metadata": {},
   "source": [
    "## Exploratory Analysis and Visualization\n",
    "\n",
    "In this section we ask interesting questions to analyze the data and draw some conclusions based on the plots between different variables.\n"
   ]
  },
  {
   "cell_type": "code",
   "execution_count": 57,
   "metadata": {},
   "outputs": [],
   "source": [
    "import matplotlib\n",
    "%matplotlib inline\n",
    "\n",
    "sns.set_style('whitegrid')\n",
    "matplotlib.rcParams['font.size'] = 14\n",
    "matplotlib.rcParams['figure.figsize'] = (9, 5)\n",
    "matplotlib.rcParams['figure.facecolor'] = '#00000000'"
   ]
  },
  {
   "cell_type": "markdown",
   "metadata": {},
   "source": [
    "A simple plot between views and likes"
   ]
  },
  {
   "cell_type": "code",
   "execution_count": 82,
   "metadata": {
    "scrolled": true
   },
   "outputs": [
    {
     "data": {
      "text/plain": [
       "Text(0.5, 1.0, 'Views vs Likes')"
      ]
     },
     "execution_count": 82,
     "metadata": {},
     "output_type": "execute_result"
    },
    {
     "data": {
      "image/png": "[encoded data removed]",
      "text/plain": [
       "<Figure size 648x360 with 1 Axes>"
      ]
     },
     "metadata": {},
     "output_type": "display_data"
    }
   ],
   "source": [
    "plt.plot(yt_trend_df['views'],yt_trend_df['likes'],'s-b');\n",
    "\n",
    "plt.xlabel('Views')\n",
    "plt.ylabel('Likes')\n",
    "plt.title('Views vs Likes')"
   ]
  },
  {
   "cell_type": "markdown",
   "metadata": {},
   "source": [
    "Scatter plot for better visualization"
   ]
  },
  {
   "cell_type": "code",
   "execution_count": 39,
   "metadata": {},
   "outputs": [
    {
     "data": {
      "image/png": "[encoded data removed]",
      "text/plain": [
       "<Figure size 648x360 with 1 Axes>"
      ]
     },
     "metadata": {
      "needs_background": "light"
     },
     "output_type": "display_data"
    }
   ],
   "source": [
    "sns.scatterplot('views','likes',data=yt_trend_df);"
   ]
  },
  {
   "cell_type": "code",
   "execution_count": 83,
   "metadata": {},
   "outputs": [
    {
     "data": {
      "text/html": [
       "<div>\n",
       "<style scoped>\n",
       "    .dataframe tbody tr th:only-of-type {\n",
       "        vertical-align: middle;\n",
       "    }\n",
       "\n",
       "    .dataframe tbody tr th {\n",
       "        vertical-align: top;\n",
       "    }\n",
       "\n",
       "    .dataframe thead th {\n",
       "        text-align: right;\n",
       "    }\n",
       "</style>\n",
       "<table border=\"1\" class=\"dataframe\">\n",
       "  <thead>\n",
       "    <tr style=\"text-align: right;\">\n",
       "      <th></th>\n",
       "      <th>title</th>\n",
       "    </tr>\n",
       "    <tr>\n",
       "      <th>days_till_trend</th>\n",
       "      <th></th>\n",
       "    </tr>\n",
       "  </thead>\n",
       "  <tbody>\n",
       "    <tr>\n",
       "      <th>0 days</th>\n",
       "      <td>138</td>\n",
       "    </tr>\n",
       "    <tr>\n",
       "      <th>1 days</th>\n",
       "      <td>5130</td>\n",
       "    </tr>\n",
       "    <tr>\n",
       "      <th>2 days</th>\n",
       "      <td>5327</td>\n",
       "    </tr>\n",
       "    <tr>\n",
       "      <th>3 days</th>\n",
       "      <td>3096</td>\n",
       "    </tr>\n",
       "    <tr>\n",
       "      <th>4 days</th>\n",
       "      <td>1515</td>\n",
       "    </tr>\n",
       "    <tr>\n",
       "      <th>5 days</th>\n",
       "      <td>783</td>\n",
       "    </tr>\n",
       "    <tr>\n",
       "      <th>6 days</th>\n",
       "      <td>220</td>\n",
       "    </tr>\n",
       "    <tr>\n",
       "      <th>7 days</th>\n",
       "      <td>57</td>\n",
       "    </tr>\n",
       "    <tr>\n",
       "      <th>8 days</th>\n",
       "      <td>18</td>\n",
       "    </tr>\n",
       "    <tr>\n",
       "      <th>9 days</th>\n",
       "      <td>6</td>\n",
       "    </tr>\n",
       "    <tr>\n",
       "      <th>10 days</th>\n",
       "      <td>1</td>\n",
       "    </tr>\n",
       "    <tr>\n",
       "      <th>11 days</th>\n",
       "      <td>2</td>\n",
       "    </tr>\n",
       "    <tr>\n",
       "      <th>12 days</th>\n",
       "      <td>4</td>\n",
       "    </tr>\n",
       "    <tr>\n",
       "      <th>13 days</th>\n",
       "      <td>3</td>\n",
       "    </tr>\n",
       "    <tr>\n",
       "      <th>14 days</th>\n",
       "      <td>1</td>\n",
       "    </tr>\n",
       "    <tr>\n",
       "      <th>15 days</th>\n",
       "      <td>2</td>\n",
       "    </tr>\n",
       "    <tr>\n",
       "      <th>18 days</th>\n",
       "      <td>1</td>\n",
       "    </tr>\n",
       "    <tr>\n",
       "      <th>33 days</th>\n",
       "      <td>1</td>\n",
       "    </tr>\n",
       "    <tr>\n",
       "      <th>51 days</th>\n",
       "      <td>1</td>\n",
       "    </tr>\n",
       "    <tr>\n",
       "      <th>221 days</th>\n",
       "      <td>1</td>\n",
       "    </tr>\n",
       "  </tbody>\n",
       "</table>\n",
       "</div>"
      ],
      "text/plain": [
       "                 title\n",
       "days_till_trend       \n",
       "0 days             138\n",
       "1 days            5130\n",
       "2 days            5327\n",
       "3 days            3096\n",
       "4 days            1515\n",
       "5 days             783\n",
       "6 days             220\n",
       "7 days              57\n",
       "8 days              18\n",
       "9 days               6\n",
       "10 days              1\n",
       "11 days              2\n",
       "12 days              4\n",
       "13 days              3\n",
       "14 days              1\n",
       "15 days              2\n",
       "18 days              1\n",
       "33 days              1\n",
       "51 days              1\n",
       "221 days             1"
      ]
     },
     "execution_count": 83,
     "metadata": {},
     "output_type": "execute_result"
    }
   ],
   "source": [
    "# To get day wise distribution\n",
    "yt_trend_df.groupby('days_till_trend')[['title']].count()"
   ]
  },
  {
   "cell_type": "code",
   "execution_count": 84,
   "metadata": {},
   "outputs": [
    {
     "data": {
      "image/png": "[encoded data removed]",
      "text/plain": [
       "<Figure size 648x360 with 1 Axes>"
      ]
     },
     "metadata": {},
     "output_type": "display_data"
    }
   ],
   "source": [
    "sns.countplot(y= yt_trend_df.days) ;"
   ]
  },
  {
   "cell_type": "code",
   "execution_count": 44,
   "metadata": {},
   "outputs": [],
   "source": [
    "yt_trend_df['p_month'] = pd.DatetimeIndex(yt_trend_df.p_date).month"
   ]
  },
  {
   "cell_type": "code",
   "execution_count": 45,
   "metadata": {},
   "outputs": [
    {
     "data": {
      "text/plain": [
       "p_month\n",
       "1     2644\n",
       "2     2258\n",
       "3     2340\n",
       "4     1685\n",
       "5     2019\n",
       "6      823\n",
       "11    1747\n",
       "12    2791\n",
       "Name: title, dtype: int64"
      ]
     },
     "execution_count": 45,
     "metadata": {},
     "output_type": "execute_result"
    }
   ],
   "source": [
    "yt_trend_df.groupby('p_month')['title'].count()"
   ]
  },
  {
   "cell_type": "code",
   "execution_count": 46,
   "metadata": {
    "scrolled": false
   },
   "outputs": [
    {
     "data": {
      "text/plain": [
       "<AxesSubplot:xlabel='count', ylabel='p_month'>"
      ]
     },
     "execution_count": 46,
     "metadata": {},
     "output_type": "execute_result"
    },
    {
     "data": {
      "image/png": "[encoded data removed]",
      "text/plain": [
       "<Figure size 648x360 with 1 Axes>"
      ]
     },
     "metadata": {
      "needs_background": "light"
     },
     "output_type": "display_data"
    }
   ],
   "source": [
    "sns.countplot(y = yt_trend_df.p_month)"
   ]
  },
  {
   "cell_type": "markdown",
   "metadata": {},
   "source": [
    "### Above figure shows the most trending videos are in the month of December"
   ]
  },
  {
   "cell_type": "code",
   "execution_count": 85,
   "metadata": {},
   "outputs": [
    {
     "data": {
      "text/plain": [
       "category\n",
       "Autos & Vehicles          34\n",
       "Comedy                  1114\n",
       "Education                798\n",
       "Entertainment           7547\n",
       "Film & Animation         522\n",
       "Gaming                    20\n",
       "Howto & Style            478\n",
       "Miscellaneous             69\n",
       "Movies                     2\n",
       "Music                   1213\n",
       "News & Politics         2505\n",
       "People & Blogs          1232\n",
       "Pets & Animals             1\n",
       "Science & Technology     300\n",
       "Shows                    121\n",
       "Sports                   347\n",
       "Travel & Events            4\n",
       "Name: title, dtype: int64"
      ]
     },
     "execution_count": 85,
     "metadata": {},
     "output_type": "execute_result"
    }
   ],
   "source": [
    "yt_trend_df.groupby('category')['title'].count()"
   ]
  },
  {
   "cell_type": "code",
   "execution_count": 86,
   "metadata": {
    "scrolled": true
   },
   "outputs": [
    {
     "data": {
      "image/png": "[encoded data removed]",
      "text/plain": [
       "<Figure size 648x360 with 1 Axes>"
      ]
     },
     "metadata": {},
     "output_type": "display_data"
    }
   ],
   "source": [
    "sns.countplot(y = yt_trend_df.category);"
   ]
  },
  {
   "cell_type": "markdown",
   "metadata": {},
   "source": [
    "### Most popular catogory is Entertainment followed by news and then music."
   ]
  },
  {
   "cell_type": "code",
   "execution_count": 50,
   "metadata": {},
   "outputs": [],
   "source": [
    "# To get the views per day\n",
    "\n",
    "yt_trend_df.loc[(yt_trend_df['days'] < 1), 'days'] = 1\n",
    "yt_trend_df[\"views_per_day\"] = yt_trend_df[\"views\"].astype(int) / yt_trend_df[\"days\"]"
   ]
  },
  {
   "cell_type": "code",
   "execution_count": 51,
   "metadata": {},
   "outputs": [],
   "source": [
    "yt_trend_df['days'] = yt_trend_df.days_till_trend.dt.days"
   ]
  },
  {
   "cell_type": "code",
   "execution_count": 52,
   "metadata": {},
   "outputs": [],
   "source": [
    "yt_trend_df['p_day'] = yt_trend_df.p_date.dt.day"
   ]
  },
  {
   "cell_type": "code",
   "execution_count": 53,
   "metadata": {},
   "outputs": [
    {
     "data": {
      "text/plain": [
       "p_day\n",
       "1     536\n",
       "2     568\n",
       "3     546\n",
       "4     497\n",
       "5     547\n",
       "6     545\n",
       "7     491\n",
       "8     459\n",
       "9     426\n",
       "10    498\n",
       "11    554\n",
       "12    564\n",
       "13    601\n",
       "14    512\n",
       "15    583\n",
       "16    627\n",
       "17    547\n",
       "18    512\n",
       "19    530\n",
       "20    583\n",
       "21    535\n",
       "22    610\n",
       "23    576\n",
       "24    597\n",
       "25    552\n",
       "26    550\n",
       "27    533\n",
       "28    486\n",
       "29    476\n",
       "30    420\n",
       "31    246\n",
       "Name: title, dtype: int64"
      ]
     },
     "execution_count": 53,
     "metadata": {},
     "output_type": "execute_result"
    }
   ],
   "source": [
    "yt_trend_df.groupby('p_day')['title'].count()"
   ]
  },
  {
   "cell_type": "code",
   "execution_count": 54,
   "metadata": {},
   "outputs": [
    {
     "data": {
      "text/plain": [
       "<AxesSubplot:xlabel='count', ylabel='p_day'>"
      ]
     },
     "execution_count": 54,
     "metadata": {},
     "output_type": "execute_result"
    },
    {
     "data": {
      "image/png": "[encoded data removed]",
      "text/plain": [
       "<Figure size 648x360 with 1 Axes>"
      ]
     },
     "metadata": {
      "needs_background": "light"
     },
     "output_type": "display_data"
    }
   ],
   "source": [
    "sns.countplot(y = yt_trend_df.p_day)"
   ]
  },
  {
   "cell_type": "markdown",
   "metadata": {},
   "source": [
    "## Heat map showing the correlations between dataset variables."
   ]
  },
  {
   "cell_type": "code",
   "execution_count": 58,
   "metadata": {
    "scrolled": true
   },
   "outputs": [
    {
     "data": {
      "image/png": "[encoded data removed]",
      "text/plain": [
       "<Figure size 720x432 with 2 Axes>"
      ]
     },
     "metadata": {
      "needs_background": "light"
     },
     "output_type": "display_data"
    }
   ],
   "source": [
    "\n",
    "h_labels = [x.replace('_', ' ').title() for x in list(yt_trend_df.select_dtypes(include=['number', 'bool']).columns.values)]\n",
    "\n",
    "fig, ax = plt.subplots(figsize=(10,6))\n",
    "\n",
    "_ = sns.heatmap(yt_trend_df.corr(), annot=True, xticklabels=h_labels, yticklabels=h_labels, cmap=sns.cubehelix_palette(start=2, rot=0, dark=0, light=.95, reverse=False, as_cmap=True), ax=ax)"
   ]
  },
  {
   "cell_type": "markdown",
   "metadata": {},
   "source": [
    "## Average days to reach trending."
   ]
  },
  {
   "cell_type": "code",
   "execution_count": 59,
   "metadata": {
    "scrolled": false
   },
   "outputs": [
    {
     "data": {
      "image/png": "[encoded data removed]",
      "text/plain": [
       "<Figure size 2304x864 with 1 Axes>"
      ]
     },
     "metadata": {
      "needs_background": "light"
     },
     "output_type": "display_data"
    }
   ],
   "source": [
    "df_t = pd.DataFrame(yt_trend_df['days'].groupby(yt_trend_df['category']).mean())\n",
    "plt.figure(figsize = (32,12))\n",
    "plt.plot(df_t, color='red' ,linewidth=2)\n",
    "plt.title(\"Average Days to reach trending list\", fontsize=40)\n",
    "plt.xlabel('Category',fontsize=25)\n",
    "plt.ylabel('Average Time taken(days)',fontsize=25)\n",
    "plt.tick_params(labelsize=20)\n",
    "plt.xticks(rotation=45, ha='right')\n",
    "plt.show();"
   ]
  },
  {
   "cell_type": "code",
   "execution_count": null,
   "metadata": {},
   "outputs": [],
   "source": []
  },
  {
   "cell_type": "markdown",
   "metadata": {},
   "source": [
    "## Plot between logs of likes and dislikes to see the general trend"
   ]
  },
  {
   "cell_type": "code",
   "execution_count": 81,
   "metadata": {},
   "outputs": [
    {
     "data": {
      "image/png": "[encoded data removed]",
      "text/plain": [
       "<Figure size 800x560 with 1 Axes>"
      ]
     },
     "metadata": {},
     "output_type": "display_data"
    }
   ],
   "source": [
    "sns.set_style(\"white\")\n",
    "yt_trend_df['likes_log']    = np.log(yt_trend_df['likes'] + 1)\n",
    "\n",
    "yt_trend_df['dislikes_log'] = np.log(yt_trend_df['dislikes'] + 1)\n",
    "\n",
    "# Plot\n",
    "kwargs = dict(hist_kws={'alpha':.6}, kde_kws={'linewidth':2})\n",
    "\n",
    "plt.figure(figsize=(10,7), dpi= 80)\n",
    "sns.distplot(yt_trend_df.likes_log, color=\"dodgerblue\", label=\"Likes log\", **kwargs)\n",
    "sns.distplot(yt_trend_df.dislikes_log, color=\"orange\", label=\"Dislikes log\", **kwargs)\n",
    "\n",
    "plt.legend();"
   ]
  },
  {
   "cell_type": "code",
   "execution_count": null,
   "metadata": {},
   "outputs": [],
   "source": []
  },
  {
   "cell_type": "code",
   "execution_count": null,
   "metadata": {},
   "outputs": [],
   "source": []
  },
  {
   "cell_type": "code",
   "execution_count": 87,
   "metadata": {},
   "outputs": [],
   "source": [
    "import jovian"
   ]
  },
  {
   "cell_type": "code",
   "execution_count": 88,
   "metadata": {},
   "outputs": [
    {
     "data": {
      "application/javascript": [
       "window.require && require([\"base/js/namespace\"],function(Jupyter){Jupyter.notebook.save_checkpoint()})"
      ],
      "text/plain": [
       "<IPython.core.display.Javascript object>"
      ]
     },
     "metadata": {},
     "output_type": "display_data"
    },
    {
     "name": "stdout",
     "output_type": "stream",
     "text": [
      "[jovian] Attempting to save notebook..\u001b[0m\n",
      "[jovian] Updating notebook \"rijulbathla8/youtube-trending-videos-analysis\" on https://jovian.ml/\u001b[0m\n",
      "[jovian] Uploading notebook..\u001b[0m\n",
      "[jovian] Capturing environment..\u001b[0m\n",
      "[jovian] Committed successfully! https://jovian.ml/rijulbathla8/youtube-trending-videos-analysis\u001b[0m\n"
     ]
    },
    {
     "data": {
      "text/plain": [
       "'https://jovian.ml/rijulbathla8/youtube-trending-videos-analysis'"
      ]
     },
     "execution_count": 88,
     "metadata": {},
     "output_type": "execute_result"
    }
   ],
   "source": [
    "jovian.commit()"
   ]
  },
  {
   "cell_type": "markdown",
   "metadata": {},
   "source": [
    "## Asking and Answering Questions\n",
    "\n",
    "I try to find the answers for some questions\n",
    "\n"
   ]
  },
  {
   "cell_type": "markdown",
   "metadata": {},
   "source": [
    "#### Q1: Which are the most liked and most disliked videos in this dataset?"
   ]
  },
  {
   "cell_type": "code",
   "execution_count": 68,
   "metadata": {},
   "outputs": [],
   "source": [
    "cols = ['title','channel_title','category','trending_date','publish_time','views','likes','dislikes','comment_count','days_till_trend','views_per_day']\n",
    "columns_df = yt_trend_df[cols] "
   ]
  },
  {
   "cell_type": "code",
   "execution_count": 70,
   "metadata": {},
   "outputs": [],
   "source": [
    "blankIndex = [''] * len(columns_df)\n",
    "columns_df.index = blankIndex"
   ]
  },
  {
   "cell_type": "markdown",
   "metadata": {},
   "source": [
    "Top 5 Most viewed videos that were in the trending list."
   ]
  },
  {
   "cell_type": "code",
   "execution_count": 63,
   "metadata": {},
   "outputs": [
    {
     "data": {
      "text/html": [
       "<div>\n",
       "<style scoped>\n",
       "    .dataframe tbody tr th:only-of-type {\n",
       "        vertical-align: middle;\n",
       "    }\n",
       "\n",
       "    .dataframe tbody tr th {\n",
       "        vertical-align: top;\n",
       "    }\n",
       "\n",
       "    .dataframe thead th {\n",
       "        text-align: right;\n",
       "    }\n",
       "</style>\n",
       "<table border=\"1\" class=\"dataframe\">\n",
       "  <thead>\n",
       "    <tr style=\"text-align: right;\">\n",
       "      <th></th>\n",
       "      <th>title</th>\n",
       "      <th>channel_title</th>\n",
       "      <th>category</th>\n",
       "      <th>trending_date</th>\n",
       "      <th>publish_time</th>\n",
       "      <th>views</th>\n",
       "      <th>likes</th>\n",
       "      <th>dislikes</th>\n",
       "      <th>days_till_trend</th>\n",
       "      <th>views_per_day</th>\n",
       "    </tr>\n",
       "  </thead>\n",
       "  <tbody>\n",
       "    <tr>\n",
       "      <th>4098</th>\n",
       "      <td>YouTube Rewind: The Shape of 2017 | #YouTubeRe...</td>\n",
       "      <td>YouTube Spotlight</td>\n",
       "      <td>Entertainment</td>\n",
       "      <td>17.12.12</td>\n",
       "      <td>2017-12-06</td>\n",
       "      <td>125432237</td>\n",
       "      <td>2912710</td>\n",
       "      <td>1545017</td>\n",
       "      <td>6 days</td>\n",
       "      <td>2.090537e+07</td>\n",
       "    </tr>\n",
       "    <tr>\n",
       "      <th>1778</th>\n",
       "      <td>Marvel Studios' Avengers: Infinity War Officia...</td>\n",
       "      <td>Marvel Entertainment</td>\n",
       "      <td>Entertainment</td>\n",
       "      <td>17.07.12</td>\n",
       "      <td>2017-11-29</td>\n",
       "      <td>89930713</td>\n",
       "      <td>2606663</td>\n",
       "      <td>53011</td>\n",
       "      <td>8 days</td>\n",
       "      <td>1.124134e+07</td>\n",
       "    </tr>\n",
       "    <tr>\n",
       "      <th>14838</th>\n",
       "      <td>VENOM - Official Trailer (HD)</td>\n",
       "      <td>Sony Pictures Entertainment</td>\n",
       "      <td>Entertainment</td>\n",
       "      <td>18.01.05</td>\n",
       "      <td>2018-04-24</td>\n",
       "      <td>53822757</td>\n",
       "      <td>1250535</td>\n",
       "      <td>44796</td>\n",
       "      <td>7 days</td>\n",
       "      <td>7.688965e+06</td>\n",
       "    </tr>\n",
       "    <tr>\n",
       "      <th>7068</th>\n",
       "      <td>Marvel Studios' Avengers: Infinity War - Offic...</td>\n",
       "      <td>Marvel Entertainment</td>\n",
       "      <td>Entertainment</td>\n",
       "      <td>18.22.03</td>\n",
       "      <td>2018-03-16</td>\n",
       "      <td>45064699</td>\n",
       "      <td>1494997</td>\n",
       "      <td>29812</td>\n",
       "      <td>6 days</td>\n",
       "      <td>7.510783e+06</td>\n",
       "    </tr>\n",
       "    <tr>\n",
       "      <th>14173</th>\n",
       "      <td>Sanju | Official Teaser | Ranbir Kapoor | Rajk...</td>\n",
       "      <td>FoxStarHindi</td>\n",
       "      <td>Entertainment</td>\n",
       "      <td>18.03.05</td>\n",
       "      <td>2018-04-24</td>\n",
       "      <td>44171797</td>\n",
       "      <td>780895</td>\n",
       "      <td>30791</td>\n",
       "      <td>9 days</td>\n",
       "      <td>4.907977e+06</td>\n",
       "    </tr>\n",
       "  </tbody>\n",
       "</table>\n",
       "</div>"
      ],
      "text/plain": [
       "                                                   title  \\\n",
       "4098   YouTube Rewind: The Shape of 2017 | #YouTubeRe...   \n",
       "1778   Marvel Studios' Avengers: Infinity War Officia...   \n",
       "14838                      VENOM - Official Trailer (HD)   \n",
       "7068   Marvel Studios' Avengers: Infinity War - Offic...   \n",
       "14173  Sanju | Official Teaser | Ranbir Kapoor | Rajk...   \n",
       "\n",
       "                     channel_title       category trending_date publish_time  \\\n",
       "4098             YouTube Spotlight  Entertainment      17.12.12   2017-12-06   \n",
       "1778          Marvel Entertainment  Entertainment      17.07.12   2017-11-29   \n",
       "14838  Sony Pictures Entertainment  Entertainment      18.01.05   2018-04-24   \n",
       "7068          Marvel Entertainment  Entertainment      18.22.03   2018-03-16   \n",
       "14173                 FoxStarHindi  Entertainment      18.03.05   2018-04-24   \n",
       "\n",
       "           views    likes  dislikes days_till_trend  views_per_day  \n",
       "4098   125432237  2912710   1545017          6 days   2.090537e+07  \n",
       "1778    89930713  2606663     53011          8 days   1.124134e+07  \n",
       "14838   53822757  1250535     44796          7 days   7.688965e+06  \n",
       "7068    45064699  1494997     29812          6 days   7.510783e+06  \n",
       "14173   44171797   780895     30791          9 days   4.907977e+06  "
      ]
     },
     "execution_count": 63,
     "metadata": {},
     "output_type": "execute_result"
    }
   ],
   "source": [
    "columns_df.sort_values('views',ascending=False).head(5)"
   ]
  },
  {
   "cell_type": "markdown",
   "metadata": {},
   "source": [
    "Top 5 most liked videos that made it to the trending list."
   ]
  },
  {
   "cell_type": "code",
   "execution_count": 65,
   "metadata": {},
   "outputs": [
    {
     "data": {
      "text/html": [
       "<div>\n",
       "<style scoped>\n",
       "    .dataframe tbody tr th:only-of-type {\n",
       "        vertical-align: middle;\n",
       "    }\n",
       "\n",
       "    .dataframe tbody tr th {\n",
       "        vertical-align: top;\n",
       "    }\n",
       "\n",
       "    .dataframe thead th {\n",
       "        text-align: right;\n",
       "    }\n",
       "</style>\n",
       "<table border=\"1\" class=\"dataframe\">\n",
       "  <thead>\n",
       "    <tr style=\"text-align: right;\">\n",
       "      <th></th>\n",
       "      <th>title</th>\n",
       "      <th>channel_title</th>\n",
       "      <th>category</th>\n",
       "      <th>trending_date</th>\n",
       "      <th>publish_time</th>\n",
       "      <th>views</th>\n",
       "      <th>likes</th>\n",
       "      <th>dislikes</th>\n",
       "      <th>days_till_trend</th>\n",
       "      <th>views_per_day</th>\n",
       "    </tr>\n",
       "  </thead>\n",
       "  <tbody>\n",
       "    <tr>\n",
       "      <th>4098</th>\n",
       "      <td>YouTube Rewind: The Shape of 2017 | #YouTubeRe...</td>\n",
       "      <td>YouTube Spotlight</td>\n",
       "      <td>Entertainment</td>\n",
       "      <td>17.12.12</td>\n",
       "      <td>2017-12-06</td>\n",
       "      <td>125432237</td>\n",
       "      <td>2912710</td>\n",
       "      <td>1545017</td>\n",
       "      <td>6 days</td>\n",
       "      <td>2.090537e+07</td>\n",
       "    </tr>\n",
       "    <tr>\n",
       "      <th>1778</th>\n",
       "      <td>Marvel Studios' Avengers: Infinity War Officia...</td>\n",
       "      <td>Marvel Entertainment</td>\n",
       "      <td>Entertainment</td>\n",
       "      <td>17.07.12</td>\n",
       "      <td>2017-11-29</td>\n",
       "      <td>89930713</td>\n",
       "      <td>2606663</td>\n",
       "      <td>53011</td>\n",
       "      <td>8 days</td>\n",
       "      <td>1.124134e+07</td>\n",
       "    </tr>\n",
       "    <tr>\n",
       "      <th>10575</th>\n",
       "      <td>Taylor Swift - End Game ft. Ed Sheeran, Future</td>\n",
       "      <td>TaylorSwiftVEVO</td>\n",
       "      <td>Music</td>\n",
       "      <td>18.18.01</td>\n",
       "      <td>2018-01-12</td>\n",
       "      <td>42019590</td>\n",
       "      <td>1804377</td>\n",
       "      <td>100033</td>\n",
       "      <td>6 days</td>\n",
       "      <td>7.003265e+06</td>\n",
       "    </tr>\n",
       "    <tr>\n",
       "      <th>679</th>\n",
       "      <td>Ed Sheeran - Perfect (Official Music Video)</td>\n",
       "      <td>Ed Sheeran</td>\n",
       "      <td>Music</td>\n",
       "      <td>17.15.11</td>\n",
       "      <td>2017-11-09</td>\n",
       "      <td>39082222</td>\n",
       "      <td>1721384</td>\n",
       "      <td>23137</td>\n",
       "      <td>6 days</td>\n",
       "      <td>6.513704e+06</td>\n",
       "    </tr>\n",
       "    <tr>\n",
       "      <th>14605</th>\n",
       "      <td>Taylor Swift - Delicate</td>\n",
       "      <td>TaylorSwiftVEVO</td>\n",
       "      <td>Music</td>\n",
       "      <td>18.18.03</td>\n",
       "      <td>2018-03-12</td>\n",
       "      <td>43738208</td>\n",
       "      <td>1658756</td>\n",
       "      <td>94043</td>\n",
       "      <td>6 days</td>\n",
       "      <td>7.289701e+06</td>\n",
       "    </tr>\n",
       "  </tbody>\n",
       "</table>\n",
       "</div>"
      ],
      "text/plain": [
       "                                                   title  \\\n",
       "4098   YouTube Rewind: The Shape of 2017 | #YouTubeRe...   \n",
       "1778   Marvel Studios' Avengers: Infinity War Officia...   \n",
       "10575     Taylor Swift - End Game ft. Ed Sheeran, Future   \n",
       "679          Ed Sheeran - Perfect (Official Music Video)   \n",
       "14605                            Taylor Swift - Delicate   \n",
       "\n",
       "              channel_title       category trending_date publish_time  \\\n",
       "4098      YouTube Spotlight  Entertainment      17.12.12   2017-12-06   \n",
       "1778   Marvel Entertainment  Entertainment      17.07.12   2017-11-29   \n",
       "10575       TaylorSwiftVEVO          Music      18.18.01   2018-01-12   \n",
       "679              Ed Sheeran          Music      17.15.11   2017-11-09   \n",
       "14605       TaylorSwiftVEVO          Music      18.18.03   2018-03-12   \n",
       "\n",
       "           views    likes  dislikes days_till_trend  views_per_day  \n",
       "4098   125432237  2912710   1545017          6 days   2.090537e+07  \n",
       "1778    89930713  2606663     53011          8 days   1.124134e+07  \n",
       "10575   42019590  1804377    100033          6 days   7.003265e+06  \n",
       "679     39082222  1721384     23137          6 days   6.513704e+06  \n",
       "14605   43738208  1658756     94043          6 days   7.289701e+06  "
      ]
     },
     "execution_count": 65,
     "metadata": {},
     "output_type": "execute_result"
    }
   ],
   "source": [
    "liked_df = columns_df.sort_values('likes',ascending=False)\n",
    "liked_df.head(5)"
   ]
  },
  {
   "cell_type": "markdown",
   "metadata": {},
   "source": [
    "Top 5 most disliked videos that made it to the trending list."
   ]
  },
  {
   "cell_type": "code",
   "execution_count": 66,
   "metadata": {},
   "outputs": [
    {
     "data": {
      "text/html": [
       "<div>\n",
       "<style scoped>\n",
       "    .dataframe tbody tr th:only-of-type {\n",
       "        vertical-align: middle;\n",
       "    }\n",
       "\n",
       "    .dataframe tbody tr th {\n",
       "        vertical-align: top;\n",
       "    }\n",
       "\n",
       "    .dataframe thead th {\n",
       "        text-align: right;\n",
       "    }\n",
       "</style>\n",
       "<table border=\"1\" class=\"dataframe\">\n",
       "  <thead>\n",
       "    <tr style=\"text-align: right;\">\n",
       "      <th></th>\n",
       "      <th>title</th>\n",
       "      <th>channel_title</th>\n",
       "      <th>category</th>\n",
       "      <th>trending_date</th>\n",
       "      <th>publish_time</th>\n",
       "      <th>views</th>\n",
       "      <th>likes</th>\n",
       "      <th>dislikes</th>\n",
       "      <th>days_till_trend</th>\n",
       "      <th>views_per_day</th>\n",
       "    </tr>\n",
       "  </thead>\n",
       "  <tbody>\n",
       "    <tr>\n",
       "      <th>4098</th>\n",
       "      <td>YouTube Rewind: The Shape of 2017 | #YouTubeRe...</td>\n",
       "      <td>YouTube Spotlight</td>\n",
       "      <td>Entertainment</td>\n",
       "      <td>17.12.12</td>\n",
       "      <td>2017-12-06</td>\n",
       "      <td>125432237</td>\n",
       "      <td>2912710</td>\n",
       "      <td>1545017</td>\n",
       "      <td>6 days</td>\n",
       "      <td>2.090537e+07</td>\n",
       "    </tr>\n",
       "    <tr>\n",
       "      <th>15636</th>\n",
       "      <td>Race 3 | Official Trailer | Salman Khan | Remo...</td>\n",
       "      <td>Salman Khan Films</td>\n",
       "      <td>Entertainment</td>\n",
       "      <td>18.23.05</td>\n",
       "      <td>2018-05-15</td>\n",
       "      <td>29437104</td>\n",
       "      <td>564399</td>\n",
       "      <td>182589</td>\n",
       "      <td>8 days</td>\n",
       "      <td>3.679638e+06</td>\n",
       "    </tr>\n",
       "    <tr>\n",
       "      <th>12407</th>\n",
       "      <td>Logan Paul - SANTA DISS TRACK (Official Music ...</td>\n",
       "      <td>Logan Paul Vlogs</td>\n",
       "      <td>Entertainment</td>\n",
       "      <td>17.14.12</td>\n",
       "      <td>2017-12-10</td>\n",
       "      <td>11767339</td>\n",
       "      <td>882821</td>\n",
       "      <td>117842</td>\n",
       "      <td>4 days</td>\n",
       "      <td>2.941835e+06</td>\n",
       "    </tr>\n",
       "    <tr>\n",
       "      <th>3427</th>\n",
       "      <td>Selfish Song Video - Race 3 | Salman Khan, Bob...</td>\n",
       "      <td>Tips Official</td>\n",
       "      <td>Music</td>\n",
       "      <td>18.30.05</td>\n",
       "      <td>2018-05-25</td>\n",
       "      <td>16169625</td>\n",
       "      <td>215228</td>\n",
       "      <td>114882</td>\n",
       "      <td>5 days</td>\n",
       "      <td>3.233925e+06</td>\n",
       "    </tr>\n",
       "    <tr>\n",
       "      <th>8483</th>\n",
       "      <td>Katy Perry - Hey Hey Hey (Official)</td>\n",
       "      <td>KatyPerryVEVO</td>\n",
       "      <td>Music</td>\n",
       "      <td>17.23.12</td>\n",
       "      <td>2017-12-20</td>\n",
       "      <td>12023527</td>\n",
       "      <td>519160</td>\n",
       "      <td>101457</td>\n",
       "      <td>3 days</td>\n",
       "      <td>4.007842e+06</td>\n",
       "    </tr>\n",
       "  </tbody>\n",
       "</table>\n",
       "</div>"
      ],
      "text/plain": [
       "                                                   title      channel_title  \\\n",
       "4098   YouTube Rewind: The Shape of 2017 | #YouTubeRe...  YouTube Spotlight   \n",
       "15636  Race 3 | Official Trailer | Salman Khan | Remo...  Salman Khan Films   \n",
       "12407  Logan Paul - SANTA DISS TRACK (Official Music ...   Logan Paul Vlogs   \n",
       "3427   Selfish Song Video - Race 3 | Salman Khan, Bob...      Tips Official   \n",
       "8483                 Katy Perry - Hey Hey Hey (Official)      KatyPerryVEVO   \n",
       "\n",
       "            category trending_date publish_time      views    likes  dislikes  \\\n",
       "4098   Entertainment      17.12.12   2017-12-06  125432237  2912710   1545017   \n",
       "15636  Entertainment      18.23.05   2018-05-15   29437104   564399    182589   \n",
       "12407  Entertainment      17.14.12   2017-12-10   11767339   882821    117842   \n",
       "3427           Music      18.30.05   2018-05-25   16169625   215228    114882   \n",
       "8483           Music      17.23.12   2017-12-20   12023527   519160    101457   \n",
       "\n",
       "      days_till_trend  views_per_day  \n",
       "4098           6 days   2.090537e+07  \n",
       "15636          8 days   3.679638e+06  \n",
       "12407          4 days   2.941835e+06  \n",
       "3427           5 days   3.233925e+06  \n",
       "8483           3 days   4.007842e+06  "
      ]
     },
     "execution_count": 66,
     "metadata": {},
     "output_type": "execute_result"
    }
   ],
   "source": [
    "disliked_df = columns_df.sort_values('dislikes',ascending=False)\n",
    "disliked_df.head(5)"
   ]
  },
  {
   "cell_type": "markdown",
   "metadata": {},
   "source": [
    "Top 5 most commented videos that made it to the trending list."
   ]
  },
  {
   "cell_type": "code",
   "execution_count": 71,
   "metadata": {},
   "outputs": [
    {
     "data": {
      "text/html": [
       "<div>\n",
       "<style scoped>\n",
       "    .dataframe tbody tr th:only-of-type {\n",
       "        vertical-align: middle;\n",
       "    }\n",
       "\n",
       "    .dataframe tbody tr th {\n",
       "        vertical-align: top;\n",
       "    }\n",
       "\n",
       "    .dataframe thead th {\n",
       "        text-align: right;\n",
       "    }\n",
       "</style>\n",
       "<table border=\"1\" class=\"dataframe\">\n",
       "  <thead>\n",
       "    <tr style=\"text-align: right;\">\n",
       "      <th></th>\n",
       "      <th>title</th>\n",
       "      <th>channel_title</th>\n",
       "      <th>category</th>\n",
       "      <th>trending_date</th>\n",
       "      <th>publish_time</th>\n",
       "      <th>views</th>\n",
       "      <th>likes</th>\n",
       "      <th>dislikes</th>\n",
       "      <th>comment_count</th>\n",
       "      <th>days_till_trend</th>\n",
       "      <th>views_per_day</th>\n",
       "    </tr>\n",
       "  </thead>\n",
       "  <tbody>\n",
       "    <tr>\n",
       "      <th></th>\n",
       "      <td>YouTube Rewind: The Shape of 2017 | #YouTubeRe...</td>\n",
       "      <td>YouTube Spotlight</td>\n",
       "      <td>Entertainment</td>\n",
       "      <td>17.12.12</td>\n",
       "      <td>2017-12-06</td>\n",
       "      <td>125432237</td>\n",
       "      <td>2912710</td>\n",
       "      <td>1545017</td>\n",
       "      <td>807558</td>\n",
       "      <td>6 days</td>\n",
       "      <td>2.090537e+07</td>\n",
       "    </tr>\n",
       "    <tr>\n",
       "      <th></th>\n",
       "      <td>OnePlus 6 Top Features and GIVEAWAY 🔥- OnePlus...</td>\n",
       "      <td>Technical Guruji</td>\n",
       "      <td>Science &amp; Technology</td>\n",
       "      <td>18.04.06</td>\n",
       "      <td>2018-06-01</td>\n",
       "      <td>1158291</td>\n",
       "      <td>370533</td>\n",
       "      <td>2519</td>\n",
       "      <td>382685</td>\n",
       "      <td>3 days</td>\n",
       "      <td>3.860970e+05</td>\n",
       "    </tr>\n",
       "    <tr>\n",
       "      <th></th>\n",
       "      <td>Samsung Galaxy J6 Unboxing and Giveaway 🔥🔥🔥</td>\n",
       "      <td>Technical Guruji</td>\n",
       "      <td>Science &amp; Technology</td>\n",
       "      <td>18.25.05</td>\n",
       "      <td>2018-05-21</td>\n",
       "      <td>2630109</td>\n",
       "      <td>402773</td>\n",
       "      <td>6780</td>\n",
       "      <td>377912</td>\n",
       "      <td>4 days</td>\n",
       "      <td>6.575272e+05</td>\n",
       "    </tr>\n",
       "    <tr>\n",
       "      <th></th>\n",
       "      <td>Marvel Studios' Avengers: Infinity War Officia...</td>\n",
       "      <td>Marvel Entertainment</td>\n",
       "      <td>Entertainment</td>\n",
       "      <td>17.07.12</td>\n",
       "      <td>2017-11-29</td>\n",
       "      <td>89930713</td>\n",
       "      <td>2606663</td>\n",
       "      <td>53011</td>\n",
       "      <td>347982</td>\n",
       "      <td>8 days</td>\n",
       "      <td>1.124134e+07</td>\n",
       "    </tr>\n",
       "    <tr>\n",
       "      <th></th>\n",
       "      <td>Samsung Galaxy S9 Top Features and Tips Tricks...</td>\n",
       "      <td>Technical Guruji</td>\n",
       "      <td>Science &amp; Technology</td>\n",
       "      <td>18.14.04</td>\n",
       "      <td>2018-04-12</td>\n",
       "      <td>921731</td>\n",
       "      <td>252602</td>\n",
       "      <td>2006</td>\n",
       "      <td>295139</td>\n",
       "      <td>2 days</td>\n",
       "      <td>4.608655e+05</td>\n",
       "    </tr>\n",
       "  </tbody>\n",
       "</table>\n",
       "</div>"
      ],
      "text/plain": [
       "                                              title         channel_title  \\\n",
       "  YouTube Rewind: The Shape of 2017 | #YouTubeRe...     YouTube Spotlight   \n",
       "  OnePlus 6 Top Features and GIVEAWAY 🔥- OnePlus...      Technical Guruji   \n",
       "        Samsung Galaxy J6 Unboxing and Giveaway 🔥🔥🔥      Technical Guruji   \n",
       "  Marvel Studios' Avengers: Infinity War Officia...  Marvel Entertainment   \n",
       "  Samsung Galaxy S9 Top Features and Tips Tricks...      Technical Guruji   \n",
       "\n",
       "              category trending_date publish_time      views    likes  \\\n",
       "         Entertainment      17.12.12   2017-12-06  125432237  2912710   \n",
       "  Science & Technology      18.04.06   2018-06-01    1158291   370533   \n",
       "  Science & Technology      18.25.05   2018-05-21    2630109   402773   \n",
       "         Entertainment      17.07.12   2017-11-29   89930713  2606663   \n",
       "  Science & Technology      18.14.04   2018-04-12     921731   252602   \n",
       "\n",
       "  dislikes  comment_count days_till_trend  views_per_day  \n",
       "   1545017         807558          6 days   2.090537e+07  \n",
       "      2519         382685          3 days   3.860970e+05  \n",
       "      6780         377912          4 days   6.575272e+05  \n",
       "     53011         347982          8 days   1.124134e+07  \n",
       "      2006         295139          2 days   4.608655e+05  "
      ]
     },
     "execution_count": 71,
     "metadata": {},
     "output_type": "execute_result"
    }
   ],
   "source": [
    "columns_df.sort_values('comment_count',ascending=False).head(5)"
   ]
  },
  {
   "cell_type": "markdown",
   "metadata": {},
   "source": [
    "#### Q2: Which are the Most loved videos in the trending list?\n",
    "Top 5 videos with most likes(more than one million) and least dislikes in the trending list. "
   ]
  },
  {
   "cell_type": "code",
   "execution_count": 89,
   "metadata": {
    "scrolled": true
   },
   "outputs": [
    {
     "data": {
      "text/html": [
       "<div>\n",
       "<style scoped>\n",
       "    .dataframe tbody tr th:only-of-type {\n",
       "        vertical-align: middle;\n",
       "    }\n",
       "\n",
       "    .dataframe tbody tr th {\n",
       "        vertical-align: top;\n",
       "    }\n",
       "\n",
       "    .dataframe thead th {\n",
       "        text-align: right;\n",
       "    }\n",
       "</style>\n",
       "<table border=\"1\" class=\"dataframe\">\n",
       "  <thead>\n",
       "    <tr style=\"text-align: right;\">\n",
       "      <th></th>\n",
       "      <th>title</th>\n",
       "      <th>channel_title</th>\n",
       "      <th>category</th>\n",
       "      <th>trending_date</th>\n",
       "      <th>publish_time</th>\n",
       "      <th>views</th>\n",
       "      <th>likes</th>\n",
       "      <th>dislikes</th>\n",
       "      <th>days_till_trend</th>\n",
       "      <th>views_per_day</th>\n",
       "    </tr>\n",
       "  </thead>\n",
       "  <tbody>\n",
       "    <tr>\n",
       "      <th>7590</th>\n",
       "      <td>BB Ki Vines- | The Sacrifice |</td>\n",
       "      <td>BB Ki Vines</td>\n",
       "      <td>Entertainment</td>\n",
       "      <td>18.15.04</td>\n",
       "      <td>2018-04-09</td>\n",
       "      <td>7769007</td>\n",
       "      <td>1084173</td>\n",
       "      <td>9373</td>\n",
       "      <td>6 days</td>\n",
       "      <td>1.294834e+06</td>\n",
       "    </tr>\n",
       "    <tr>\n",
       "      <th>679</th>\n",
       "      <td>Ed Sheeran - Perfect (Official Music Video)</td>\n",
       "      <td>Ed Sheeran</td>\n",
       "      <td>Music</td>\n",
       "      <td>17.15.11</td>\n",
       "      <td>2017-11-09</td>\n",
       "      <td>39082222</td>\n",
       "      <td>1721384</td>\n",
       "      <td>23137</td>\n",
       "      <td>6 days</td>\n",
       "      <td>6.513704e+06</td>\n",
       "    </tr>\n",
       "    <tr>\n",
       "      <th>11857</th>\n",
       "      <td>Ed Sheeran - Happier (Official Video)</td>\n",
       "      <td>Ed Sheeran</td>\n",
       "      <td>Music</td>\n",
       "      <td>18.02.05</td>\n",
       "      <td>2018-04-27</td>\n",
       "      <td>23543061</td>\n",
       "      <td>1095526</td>\n",
       "      <td>23886</td>\n",
       "      <td>5 days</td>\n",
       "      <td>4.708612e+06</td>\n",
       "    </tr>\n",
       "    <tr>\n",
       "      <th>4960</th>\n",
       "      <td>ZAYN - Let Me (Official Video)</td>\n",
       "      <td>ZaynVEVO</td>\n",
       "      <td>Music</td>\n",
       "      <td>18.18.04</td>\n",
       "      <td>2018-04-12</td>\n",
       "      <td>22769424</td>\n",
       "      <td>1059309</td>\n",
       "      <td>24724</td>\n",
       "      <td>6 days</td>\n",
       "      <td>3.794904e+06</td>\n",
       "    </tr>\n",
       "    <tr>\n",
       "      <th>7068</th>\n",
       "      <td>Marvel Studios' Avengers: Infinity War - Offic...</td>\n",
       "      <td>Marvel Entertainment</td>\n",
       "      <td>Entertainment</td>\n",
       "      <td>18.22.03</td>\n",
       "      <td>2018-03-16</td>\n",
       "      <td>45064699</td>\n",
       "      <td>1494997</td>\n",
       "      <td>29812</td>\n",
       "      <td>6 days</td>\n",
       "      <td>7.510783e+06</td>\n",
       "    </tr>\n",
       "  </tbody>\n",
       "</table>\n",
       "</div>"
      ],
      "text/plain": [
       "                                                   title  \\\n",
       "7590                      BB Ki Vines- | The Sacrifice |   \n",
       "679          Ed Sheeran - Perfect (Official Music Video)   \n",
       "11857              Ed Sheeran - Happier (Official Video)   \n",
       "4960                      ZAYN - Let Me (Official Video)   \n",
       "7068   Marvel Studios' Avengers: Infinity War - Offic...   \n",
       "\n",
       "              channel_title       category trending_date publish_time  \\\n",
       "7590            BB Ki Vines  Entertainment      18.15.04   2018-04-09   \n",
       "679              Ed Sheeran          Music      17.15.11   2017-11-09   \n",
       "11857            Ed Sheeran          Music      18.02.05   2018-04-27   \n",
       "4960               ZaynVEVO          Music      18.18.04   2018-04-12   \n",
       "7068   Marvel Entertainment  Entertainment      18.22.03   2018-03-16   \n",
       "\n",
       "          views    likes  dislikes days_till_trend  views_per_day  \n",
       "7590    7769007  1084173      9373          6 days   1.294834e+06  \n",
       "679    39082222  1721384     23137          6 days   6.513704e+06  \n",
       "11857  23543061  1095526     23886          5 days   4.708612e+06  \n",
       "4960   22769424  1059309     24724          6 days   3.794904e+06  \n",
       "7068   45064699  1494997     29812          6 days   7.510783e+06  "
      ]
     },
     "execution_count": 89,
     "metadata": {},
     "output_type": "execute_result"
    }
   ],
   "source": [
    "res1 = liked_df[liked_df.likes>1000000] \n",
    "res1.sort_values('dislikes',ascending=True).head(5) "
   ]
  },
  {
   "cell_type": "markdown",
   "metadata": {},
   "source": [
    "#### Q3: Which are the Most hated videos in the trending list?\n",
    "Top videos with most dislikes(more than 50k) and least likes in the trending list. "
   ]
  },
  {
   "cell_type": "code",
   "execution_count": 75,
   "metadata": {
    "scrolled": true
   },
   "outputs": [
    {
     "data": {
      "text/html": [
       "<div>\n",
       "<style scoped>\n",
       "    .dataframe tbody tr th:only-of-type {\n",
       "        vertical-align: middle;\n",
       "    }\n",
       "\n",
       "    .dataframe tbody tr th {\n",
       "        vertical-align: top;\n",
       "    }\n",
       "\n",
       "    .dataframe thead th {\n",
       "        text-align: right;\n",
       "    }\n",
       "</style>\n",
       "<table border=\"1\" class=\"dataframe\">\n",
       "  <thead>\n",
       "    <tr style=\"text-align: right;\">\n",
       "      <th></th>\n",
       "      <th>title</th>\n",
       "      <th>channel_title</th>\n",
       "      <th>category</th>\n",
       "      <th>trending_date</th>\n",
       "      <th>publish_time</th>\n",
       "      <th>views</th>\n",
       "      <th>likes</th>\n",
       "      <th>dislikes</th>\n",
       "      <th>days_till_trend</th>\n",
       "      <th>views_per_day</th>\n",
       "    </tr>\n",
       "  </thead>\n",
       "  <tbody>\n",
       "    <tr>\n",
       "      <th>3427</th>\n",
       "      <td>Selfish Song Video - Race 3 | Salman Khan, Bob...</td>\n",
       "      <td>Tips Official</td>\n",
       "      <td>Music</td>\n",
       "      <td>18.30.05</td>\n",
       "      <td>2018-05-25</td>\n",
       "      <td>16169625</td>\n",
       "      <td>215228</td>\n",
       "      <td>114882</td>\n",
       "      <td>5 days</td>\n",
       "      <td>3.233925e+06</td>\n",
       "    </tr>\n",
       "    <tr>\n",
       "      <th>10420</th>\n",
       "      <td>Allah Duhai Hai Song Video - Race 3 | Salman K...</td>\n",
       "      <td>Tips Official</td>\n",
       "      <td>Music</td>\n",
       "      <td>18.07.06</td>\n",
       "      <td>2018-06-01</td>\n",
       "      <td>18904020</td>\n",
       "      <td>296229</td>\n",
       "      <td>83691</td>\n",
       "      <td>6 days</td>\n",
       "      <td>3.150670e+06</td>\n",
       "    </tr>\n",
       "    <tr>\n",
       "      <th>13791</th>\n",
       "      <td>Baaghi 2: Ek Do Teen Song | Jacqueline Fernand...</td>\n",
       "      <td>T-Series</td>\n",
       "      <td>Music</td>\n",
       "      <td>18.24.03</td>\n",
       "      <td>2018-03-19</td>\n",
       "      <td>29503026</td>\n",
       "      <td>320346</td>\n",
       "      <td>80059</td>\n",
       "      <td>5 days</td>\n",
       "      <td>5.900605e+06</td>\n",
       "    </tr>\n",
       "    <tr>\n",
       "      <th>11978</th>\n",
       "      <td>Heeriye Song Video - Race 3 | Salman Khan, Jac...</td>\n",
       "      <td>Tips Official</td>\n",
       "      <td>Music</td>\n",
       "      <td>18.24.05</td>\n",
       "      <td>2018-05-18</td>\n",
       "      <td>25952473</td>\n",
       "      <td>455361</td>\n",
       "      <td>71793</td>\n",
       "      <td>6 days</td>\n",
       "      <td>4.325412e+06</td>\n",
       "    </tr>\n",
       "    <tr>\n",
       "      <th>8573</th>\n",
       "      <td>Kaala (Tamil) - Official Teaser | Rajinikanth ...</td>\n",
       "      <td>Wunderbar Studios</td>\n",
       "      <td>Film &amp; Animation</td>\n",
       "      <td>18.09.03</td>\n",
       "      <td>2018-03-01</td>\n",
       "      <td>18877505</td>\n",
       "      <td>467498</td>\n",
       "      <td>60323</td>\n",
       "      <td>8 days</td>\n",
       "      <td>2.359688e+06</td>\n",
       "    </tr>\n",
       "  </tbody>\n",
       "</table>\n",
       "</div>"
      ],
      "text/plain": [
       "                                                   title      channel_title  \\\n",
       "3427   Selfish Song Video - Race 3 | Salman Khan, Bob...      Tips Official   \n",
       "10420  Allah Duhai Hai Song Video - Race 3 | Salman K...      Tips Official   \n",
       "13791  Baaghi 2: Ek Do Teen Song | Jacqueline Fernand...           T-Series   \n",
       "11978  Heeriye Song Video - Race 3 | Salman Khan, Jac...      Tips Official   \n",
       "8573   Kaala (Tamil) - Official Teaser | Rajinikanth ...  Wunderbar Studios   \n",
       "\n",
       "               category trending_date publish_time     views   likes  \\\n",
       "3427              Music      18.30.05   2018-05-25  16169625  215228   \n",
       "10420             Music      18.07.06   2018-06-01  18904020  296229   \n",
       "13791             Music      18.24.03   2018-03-19  29503026  320346   \n",
       "11978             Music      18.24.05   2018-05-18  25952473  455361   \n",
       "8573   Film & Animation      18.09.03   2018-03-01  18877505  467498   \n",
       "\n",
       "       dislikes days_till_trend  views_per_day  \n",
       "3427     114882          5 days   3.233925e+06  \n",
       "10420     83691          6 days   3.150670e+06  \n",
       "13791     80059          5 days   5.900605e+06  \n",
       "11978     71793          6 days   4.325412e+06  \n",
       "8573      60323          8 days   2.359688e+06  "
      ]
     },
     "execution_count": 75,
     "metadata": {},
     "output_type": "execute_result"
    }
   ],
   "source": [
    "res2 = disliked_df[disliked_df.dislikes>50000]\n",
    "\n",
    "res2.sort_values('likes',ascending=True).head(5)"
   ]
  },
  {
   "cell_type": "markdown",
   "metadata": {},
   "source": [
    "#### Q3: Which are the videos with the best like dislikes ratio?"
   ]
  },
  {
   "cell_type": "code",
   "execution_count": 90,
   "metadata": {},
   "outputs": [
    {
     "data": {
      "text/plain": [
       "441      Yaare Nee Mohini - Episode 114  - February 22,...\n",
       "9635     Watch: Green corridor for ambulance carrying c...\n",
       "13967    Bramhagantu - Episode 207  - February 21, 2018...\n",
       "9821     Subbalakshmi Samsara - ಸುಬ್ಬಲಕ್ಷ್ಮಿ ಸಂಸಾರ | Ep...\n",
       "1898     Anjali - अंजली - Episode 292  - May 14, 2018 -...\n",
       "Name: title, dtype: object"
      ]
     },
     "execution_count": 90,
     "metadata": {},
     "output_type": "execute_result"
    }
   ],
   "source": [
    "best_ld_df = yt_trend_df.sort_values('ld_ratio',ascending=False).head(5)\n",
    "best_ld_df['title']"
   ]
  },
  {
   "cell_type": "markdown",
   "metadata": {},
   "source": [
    "#### Q4: Which are the most reacted videos?"
   ]
  },
  {
   "cell_type": "code",
   "execution_count": 91,
   "metadata": {
    "scrolled": true
   },
   "outputs": [
    {
     "data": {
      "text/plain": [
       "7835     OnePlus 6 Top Features and GIVEAWAY 🔥- OnePlus...\n",
       "4366     Samsung Galaxy S9 Top Features and Tips Tricks...\n",
       "14891    Oneplus 5T Lava Red Unboxing and Giveaway 🔥🔥🔥 ...\n",
       "482      OnePlus 5T Star Wars Limited Edition Unboxing ...\n",
       "6243     Xiaomi Redmi 5A Unboxing & initial impressions...\n",
       "Name: title, dtype: object"
      ]
     },
     "execution_count": 91,
     "metadata": {},
     "output_type": "execute_result"
    }
   ],
   "source": [
    "most_rct_df = yt_trend_df.sort_values('react_no(%age)',ascending=False).head(5)\n",
    "most_rct_df['title']"
   ]
  },
  {
   "cell_type": "markdown",
   "metadata": {},
   "source": [
    "This could be due to the reason that these channel had the reward as giveaways which attracted large number of reactions from people. "
   ]
  },
  {
   "cell_type": "markdown",
   "metadata": {},
   "source": [
    "#### Q5: Which is the most liked category ?"
   ]
  },
  {
   "cell_type": "code",
   "execution_count": 100,
   "metadata": {
    "scrolled": true
   },
   "outputs": [
    {
     "data": {
      "text/html": [
       "<div>\n",
       "<style scoped>\n",
       "    .dataframe tbody tr th:only-of-type {\n",
       "        vertical-align: middle;\n",
       "    }\n",
       "\n",
       "    .dataframe tbody tr th {\n",
       "        vertical-align: top;\n",
       "    }\n",
       "\n",
       "    .dataframe thead th {\n",
       "        text-align: right;\n",
       "    }\n",
       "</style>\n",
       "<table border=\"1\" class=\"dataframe\">\n",
       "  <thead>\n",
       "    <tr style=\"text-align: right;\">\n",
       "      <th></th>\n",
       "      <th>video_id</th>\n",
       "      <th>trending_date</th>\n",
       "      <th>title</th>\n",
       "      <th>channel_title</th>\n",
       "      <th>category_id</th>\n",
       "      <th>publish_time</th>\n",
       "      <th>views</th>\n",
       "      <th>likes</th>\n",
       "      <th>dislikes</th>\n",
       "      <th>comment_count</th>\n",
       "      <th>...</th>\n",
       "      <th>p_date</th>\n",
       "      <th>t_date</th>\n",
       "      <th>days_till_trend</th>\n",
       "      <th>days</th>\n",
       "      <th>index</th>\n",
       "      <th>p_month</th>\n",
       "      <th>views_per_day</th>\n",
       "      <th>p_day</th>\n",
       "      <th>likes_log</th>\n",
       "      <th>dislikes_log</th>\n",
       "    </tr>\n",
       "    <tr>\n",
       "      <th>category</th>\n",
       "      <th></th>\n",
       "      <th></th>\n",
       "      <th></th>\n",
       "      <th></th>\n",
       "      <th></th>\n",
       "      <th></th>\n",
       "      <th></th>\n",
       "      <th></th>\n",
       "      <th></th>\n",
       "      <th></th>\n",
       "      <th></th>\n",
       "      <th></th>\n",
       "      <th></th>\n",
       "      <th></th>\n",
       "      <th></th>\n",
       "      <th></th>\n",
       "      <th></th>\n",
       "      <th></th>\n",
       "      <th></th>\n",
       "      <th></th>\n",
       "      <th></th>\n",
       "    </tr>\n",
       "  </thead>\n",
       "  <tbody>\n",
       "    <tr>\n",
       "      <th>Travel &amp; Events</th>\n",
       "      <td>4</td>\n",
       "      <td>4</td>\n",
       "      <td>4</td>\n",
       "      <td>4</td>\n",
       "      <td>4</td>\n",
       "      <td>4</td>\n",
       "      <td>4</td>\n",
       "      <td>4</td>\n",
       "      <td>4</td>\n",
       "      <td>4</td>\n",
       "      <td>...</td>\n",
       "      <td>4</td>\n",
       "      <td>4</td>\n",
       "      <td>4</td>\n",
       "      <td>4</td>\n",
       "      <td>4</td>\n",
       "      <td>4</td>\n",
       "      <td>4</td>\n",
       "      <td>4</td>\n",
       "      <td>4</td>\n",
       "      <td>4</td>\n",
       "    </tr>\n",
       "    <tr>\n",
       "      <th>Sports</th>\n",
       "      <td>347</td>\n",
       "      <td>347</td>\n",
       "      <td>347</td>\n",
       "      <td>347</td>\n",
       "      <td>347</td>\n",
       "      <td>347</td>\n",
       "      <td>347</td>\n",
       "      <td>347</td>\n",
       "      <td>347</td>\n",
       "      <td>347</td>\n",
       "      <td>...</td>\n",
       "      <td>347</td>\n",
       "      <td>347</td>\n",
       "      <td>347</td>\n",
       "      <td>347</td>\n",
       "      <td>347</td>\n",
       "      <td>347</td>\n",
       "      <td>347</td>\n",
       "      <td>347</td>\n",
       "      <td>347</td>\n",
       "      <td>347</td>\n",
       "    </tr>\n",
       "    <tr>\n",
       "      <th>Shows</th>\n",
       "      <td>121</td>\n",
       "      <td>121</td>\n",
       "      <td>121</td>\n",
       "      <td>121</td>\n",
       "      <td>121</td>\n",
       "      <td>121</td>\n",
       "      <td>121</td>\n",
       "      <td>121</td>\n",
       "      <td>121</td>\n",
       "      <td>121</td>\n",
       "      <td>...</td>\n",
       "      <td>121</td>\n",
       "      <td>121</td>\n",
       "      <td>121</td>\n",
       "      <td>121</td>\n",
       "      <td>121</td>\n",
       "      <td>121</td>\n",
       "      <td>121</td>\n",
       "      <td>121</td>\n",
       "      <td>121</td>\n",
       "      <td>121</td>\n",
       "    </tr>\n",
       "    <tr>\n",
       "      <th>Science &amp; Technology</th>\n",
       "      <td>300</td>\n",
       "      <td>300</td>\n",
       "      <td>300</td>\n",
       "      <td>300</td>\n",
       "      <td>300</td>\n",
       "      <td>300</td>\n",
       "      <td>300</td>\n",
       "      <td>300</td>\n",
       "      <td>300</td>\n",
       "      <td>300</td>\n",
       "      <td>...</td>\n",
       "      <td>300</td>\n",
       "      <td>300</td>\n",
       "      <td>300</td>\n",
       "      <td>300</td>\n",
       "      <td>300</td>\n",
       "      <td>300</td>\n",
       "      <td>300</td>\n",
       "      <td>300</td>\n",
       "      <td>300</td>\n",
       "      <td>300</td>\n",
       "    </tr>\n",
       "    <tr>\n",
       "      <th>Pets &amp; Animals</th>\n",
       "      <td>1</td>\n",
       "      <td>1</td>\n",
       "      <td>1</td>\n",
       "      <td>1</td>\n",
       "      <td>1</td>\n",
       "      <td>1</td>\n",
       "      <td>1</td>\n",
       "      <td>1</td>\n",
       "      <td>1</td>\n",
       "      <td>1</td>\n",
       "      <td>...</td>\n",
       "      <td>1</td>\n",
       "      <td>1</td>\n",
       "      <td>1</td>\n",
       "      <td>1</td>\n",
       "      <td>1</td>\n",
       "      <td>1</td>\n",
       "      <td>1</td>\n",
       "      <td>1</td>\n",
       "      <td>1</td>\n",
       "      <td>1</td>\n",
       "    </tr>\n",
       "    <tr>\n",
       "      <th>People &amp; Blogs</th>\n",
       "      <td>1232</td>\n",
       "      <td>1232</td>\n",
       "      <td>1232</td>\n",
       "      <td>1232</td>\n",
       "      <td>1232</td>\n",
       "      <td>1232</td>\n",
       "      <td>1232</td>\n",
       "      <td>1232</td>\n",
       "      <td>1232</td>\n",
       "      <td>1232</td>\n",
       "      <td>...</td>\n",
       "      <td>1232</td>\n",
       "      <td>1232</td>\n",
       "      <td>1232</td>\n",
       "      <td>1232</td>\n",
       "      <td>1232</td>\n",
       "      <td>1232</td>\n",
       "      <td>1232</td>\n",
       "      <td>1232</td>\n",
       "      <td>1232</td>\n",
       "      <td>1232</td>\n",
       "    </tr>\n",
       "    <tr>\n",
       "      <th>News &amp; Politics</th>\n",
       "      <td>2505</td>\n",
       "      <td>2505</td>\n",
       "      <td>2505</td>\n",
       "      <td>2505</td>\n",
       "      <td>2505</td>\n",
       "      <td>2505</td>\n",
       "      <td>2505</td>\n",
       "      <td>2505</td>\n",
       "      <td>2505</td>\n",
       "      <td>2505</td>\n",
       "      <td>...</td>\n",
       "      <td>2505</td>\n",
       "      <td>2505</td>\n",
       "      <td>2505</td>\n",
       "      <td>2505</td>\n",
       "      <td>2505</td>\n",
       "      <td>2505</td>\n",
       "      <td>2505</td>\n",
       "      <td>2505</td>\n",
       "      <td>2505</td>\n",
       "      <td>2505</td>\n",
       "    </tr>\n",
       "    <tr>\n",
       "      <th>Music</th>\n",
       "      <td>1213</td>\n",
       "      <td>1213</td>\n",
       "      <td>1213</td>\n",
       "      <td>1213</td>\n",
       "      <td>1213</td>\n",
       "      <td>1213</td>\n",
       "      <td>1213</td>\n",
       "      <td>1213</td>\n",
       "      <td>1213</td>\n",
       "      <td>1213</td>\n",
       "      <td>...</td>\n",
       "      <td>1213</td>\n",
       "      <td>1213</td>\n",
       "      <td>1213</td>\n",
       "      <td>1213</td>\n",
       "      <td>1213</td>\n",
       "      <td>1213</td>\n",
       "      <td>1213</td>\n",
       "      <td>1213</td>\n",
       "      <td>1213</td>\n",
       "      <td>1213</td>\n",
       "    </tr>\n",
       "    <tr>\n",
       "      <th>Movies</th>\n",
       "      <td>2</td>\n",
       "      <td>2</td>\n",
       "      <td>2</td>\n",
       "      <td>2</td>\n",
       "      <td>2</td>\n",
       "      <td>2</td>\n",
       "      <td>2</td>\n",
       "      <td>2</td>\n",
       "      <td>2</td>\n",
       "      <td>2</td>\n",
       "      <td>...</td>\n",
       "      <td>2</td>\n",
       "      <td>2</td>\n",
       "      <td>2</td>\n",
       "      <td>2</td>\n",
       "      <td>2</td>\n",
       "      <td>2</td>\n",
       "      <td>2</td>\n",
       "      <td>2</td>\n",
       "      <td>2</td>\n",
       "      <td>2</td>\n",
       "    </tr>\n",
       "    <tr>\n",
       "      <th>Miscellaneous</th>\n",
       "      <td>69</td>\n",
       "      <td>69</td>\n",
       "      <td>69</td>\n",
       "      <td>69</td>\n",
       "      <td>69</td>\n",
       "      <td>69</td>\n",
       "      <td>69</td>\n",
       "      <td>69</td>\n",
       "      <td>69</td>\n",
       "      <td>69</td>\n",
       "      <td>...</td>\n",
       "      <td>69</td>\n",
       "      <td>69</td>\n",
       "      <td>69</td>\n",
       "      <td>69</td>\n",
       "      <td>69</td>\n",
       "      <td>69</td>\n",
       "      <td>69</td>\n",
       "      <td>69</td>\n",
       "      <td>69</td>\n",
       "      <td>69</td>\n",
       "    </tr>\n",
       "    <tr>\n",
       "      <th>Howto &amp; Style</th>\n",
       "      <td>478</td>\n",
       "      <td>478</td>\n",
       "      <td>478</td>\n",
       "      <td>478</td>\n",
       "      <td>478</td>\n",
       "      <td>478</td>\n",
       "      <td>478</td>\n",
       "      <td>478</td>\n",
       "      <td>478</td>\n",
       "      <td>478</td>\n",
       "      <td>...</td>\n",
       "      <td>478</td>\n",
       "      <td>478</td>\n",
       "      <td>478</td>\n",
       "      <td>478</td>\n",
       "      <td>478</td>\n",
       "      <td>478</td>\n",
       "      <td>478</td>\n",
       "      <td>478</td>\n",
       "      <td>478</td>\n",
       "      <td>478</td>\n",
       "    </tr>\n",
       "    <tr>\n",
       "      <th>Gaming</th>\n",
       "      <td>20</td>\n",
       "      <td>20</td>\n",
       "      <td>20</td>\n",
       "      <td>20</td>\n",
       "      <td>20</td>\n",
       "      <td>20</td>\n",
       "      <td>20</td>\n",
       "      <td>20</td>\n",
       "      <td>20</td>\n",
       "      <td>20</td>\n",
       "      <td>...</td>\n",
       "      <td>20</td>\n",
       "      <td>20</td>\n",
       "      <td>20</td>\n",
       "      <td>20</td>\n",
       "      <td>20</td>\n",
       "      <td>20</td>\n",
       "      <td>20</td>\n",
       "      <td>20</td>\n",
       "      <td>20</td>\n",
       "      <td>20</td>\n",
       "    </tr>\n",
       "    <tr>\n",
       "      <th>Film &amp; Animation</th>\n",
       "      <td>522</td>\n",
       "      <td>522</td>\n",
       "      <td>522</td>\n",
       "      <td>522</td>\n",
       "      <td>522</td>\n",
       "      <td>522</td>\n",
       "      <td>522</td>\n",
       "      <td>522</td>\n",
       "      <td>522</td>\n",
       "      <td>522</td>\n",
       "      <td>...</td>\n",
       "      <td>522</td>\n",
       "      <td>522</td>\n",
       "      <td>522</td>\n",
       "      <td>522</td>\n",
       "      <td>522</td>\n",
       "      <td>522</td>\n",
       "      <td>522</td>\n",
       "      <td>522</td>\n",
       "      <td>522</td>\n",
       "      <td>522</td>\n",
       "    </tr>\n",
       "    <tr>\n",
       "      <th>Entertainment</th>\n",
       "      <td>7547</td>\n",
       "      <td>7547</td>\n",
       "      <td>7547</td>\n",
       "      <td>7547</td>\n",
       "      <td>7547</td>\n",
       "      <td>7547</td>\n",
       "      <td>7547</td>\n",
       "      <td>7547</td>\n",
       "      <td>7547</td>\n",
       "      <td>7547</td>\n",
       "      <td>...</td>\n",
       "      <td>7547</td>\n",
       "      <td>7547</td>\n",
       "      <td>7547</td>\n",
       "      <td>7547</td>\n",
       "      <td>7547</td>\n",
       "      <td>7547</td>\n",
       "      <td>7547</td>\n",
       "      <td>7547</td>\n",
       "      <td>7547</td>\n",
       "      <td>7547</td>\n",
       "    </tr>\n",
       "    <tr>\n",
       "      <th>Education</th>\n",
       "      <td>798</td>\n",
       "      <td>798</td>\n",
       "      <td>798</td>\n",
       "      <td>798</td>\n",
       "      <td>798</td>\n",
       "      <td>798</td>\n",
       "      <td>798</td>\n",
       "      <td>798</td>\n",
       "      <td>798</td>\n",
       "      <td>798</td>\n",
       "      <td>...</td>\n",
       "      <td>798</td>\n",
       "      <td>798</td>\n",
       "      <td>798</td>\n",
       "      <td>798</td>\n",
       "      <td>798</td>\n",
       "      <td>798</td>\n",
       "      <td>798</td>\n",
       "      <td>798</td>\n",
       "      <td>798</td>\n",
       "      <td>798</td>\n",
       "    </tr>\n",
       "    <tr>\n",
       "      <th>Comedy</th>\n",
       "      <td>1114</td>\n",
       "      <td>1114</td>\n",
       "      <td>1114</td>\n",
       "      <td>1114</td>\n",
       "      <td>1114</td>\n",
       "      <td>1114</td>\n",
       "      <td>1114</td>\n",
       "      <td>1114</td>\n",
       "      <td>1114</td>\n",
       "      <td>1114</td>\n",
       "      <td>...</td>\n",
       "      <td>1114</td>\n",
       "      <td>1114</td>\n",
       "      <td>1114</td>\n",
       "      <td>1114</td>\n",
       "      <td>1114</td>\n",
       "      <td>1114</td>\n",
       "      <td>1114</td>\n",
       "      <td>1114</td>\n",
       "      <td>1114</td>\n",
       "      <td>1114</td>\n",
       "    </tr>\n",
       "    <tr>\n",
       "      <th>Autos &amp; Vehicles</th>\n",
       "      <td>34</td>\n",
       "      <td>34</td>\n",
       "      <td>34</td>\n",
       "      <td>34</td>\n",
       "      <td>34</td>\n",
       "      <td>34</td>\n",
       "      <td>34</td>\n",
       "      <td>34</td>\n",
       "      <td>34</td>\n",
       "      <td>34</td>\n",
       "      <td>...</td>\n",
       "      <td>34</td>\n",
       "      <td>34</td>\n",
       "      <td>34</td>\n",
       "      <td>34</td>\n",
       "      <td>34</td>\n",
       "      <td>34</td>\n",
       "      <td>34</td>\n",
       "      <td>34</td>\n",
       "      <td>34</td>\n",
       "      <td>34</td>\n",
       "    </tr>\n",
       "  </tbody>\n",
       "</table>\n",
       "<p>17 rows × 22 columns</p>\n",
       "</div>"
      ],
      "text/plain": [
       "                      video_id  trending_date  title  channel_title  \\\n",
       "category                                                              \n",
       "Travel & Events              4              4      4              4   \n",
       "Sports                     347            347    347            347   \n",
       "Shows                      121            121    121            121   \n",
       "Science & Technology       300            300    300            300   \n",
       "Pets & Animals               1              1      1              1   \n",
       "People & Blogs            1232           1232   1232           1232   \n",
       "News & Politics           2505           2505   2505           2505   \n",
       "Music                     1213           1213   1213           1213   \n",
       "Movies                       2              2      2              2   \n",
       "Miscellaneous               69             69     69             69   \n",
       "Howto & Style              478            478    478            478   \n",
       "Gaming                      20             20     20             20   \n",
       "Film & Animation           522            522    522            522   \n",
       "Entertainment             7547           7547   7547           7547   \n",
       "Education                  798            798    798            798   \n",
       "Comedy                    1114           1114   1114           1114   \n",
       "Autos & Vehicles            34             34     34             34   \n",
       "\n",
       "                      category_id  publish_time  views  likes  dislikes  \\\n",
       "category                                                                  \n",
       "Travel & Events                 4             4      4      4         4   \n",
       "Sports                        347           347    347    347       347   \n",
       "Shows                         121           121    121    121       121   \n",
       "Science & Technology          300           300    300    300       300   \n",
       "Pets & Animals                  1             1      1      1         1   \n",
       "People & Blogs               1232          1232   1232   1232      1232   \n",
       "News & Politics              2505          2505   2505   2505      2505   \n",
       "Music                        1213          1213   1213   1213      1213   \n",
       "Movies                          2             2      2      2         2   \n",
       "Miscellaneous                  69            69     69     69        69   \n",
       "Howto & Style                 478           478    478    478       478   \n",
       "Gaming                         20            20     20     20        20   \n",
       "Film & Animation              522           522    522    522       522   \n",
       "Entertainment                7547          7547   7547   7547      7547   \n",
       "Education                     798           798    798    798       798   \n",
       "Comedy                       1114          1114   1114   1114      1114   \n",
       "Autos & Vehicles               34            34     34     34        34   \n",
       "\n",
       "                      comment_count  ...  p_date  t_date  days_till_trend  \\\n",
       "category                             ...                                    \n",
       "Travel & Events                   4  ...       4       4                4   \n",
       "Sports                          347  ...     347     347              347   \n",
       "Shows                           121  ...     121     121              121   \n",
       "Science & Technology            300  ...     300     300              300   \n",
       "Pets & Animals                    1  ...       1       1                1   \n",
       "People & Blogs                 1232  ...    1232    1232             1232   \n",
       "News & Politics                2505  ...    2505    2505             2505   \n",
       "Music                          1213  ...    1213    1213             1213   \n",
       "Movies                            2  ...       2       2                2   \n",
       "Miscellaneous                    69  ...      69      69               69   \n",
       "Howto & Style                   478  ...     478     478              478   \n",
       "Gaming                           20  ...      20      20               20   \n",
       "Film & Animation                522  ...     522     522              522   \n",
       "Entertainment                  7547  ...    7547    7547             7547   \n",
       "Education                       798  ...     798     798              798   \n",
       "Comedy                         1114  ...    1114    1114             1114   \n",
       "Autos & Vehicles                 34  ...      34      34               34   \n",
       "\n",
       "                      days  index  p_month  views_per_day  p_day  likes_log  \\\n",
       "category                                                                      \n",
       "Travel & Events          4      4        4              4      4          4   \n",
       "Sports                 347    347      347            347    347        347   \n",
       "Shows                  121    121      121            121    121        121   \n",
       "Science & Technology   300    300      300            300    300        300   \n",
       "Pets & Animals           1      1        1              1      1          1   \n",
       "People & Blogs        1232   1232     1232           1232   1232       1232   \n",
       "News & Politics       2505   2505     2505           2505   2505       2505   \n",
       "Music                 1213   1213     1213           1213   1213       1213   \n",
       "Movies                   2      2        2              2      2          2   \n",
       "Miscellaneous           69     69       69             69     69         69   \n",
       "Howto & Style          478    478      478            478    478        478   \n",
       "Gaming                  20     20       20             20     20         20   \n",
       "Film & Animation       522    522      522            522    522        522   \n",
       "Entertainment         7547   7547     7547           7547   7547       7547   \n",
       "Education              798    798      798            798    798        798   \n",
       "Comedy                1114   1114     1114           1114   1114       1114   \n",
       "Autos & Vehicles        34     34       34             34     34         34   \n",
       "\n",
       "                      dislikes_log  \n",
       "category                            \n",
       "Travel & Events                  4  \n",
       "Sports                         347  \n",
       "Shows                          121  \n",
       "Science & Technology           300  \n",
       "Pets & Animals                   1  \n",
       "People & Blogs                1232  \n",
       "News & Politics               2505  \n",
       "Music                         1213  \n",
       "Movies                           2  \n",
       "Miscellaneous                   69  \n",
       "Howto & Style                  478  \n",
       "Gaming                          20  \n",
       "Film & Animation               522  \n",
       "Entertainment                 7547  \n",
       "Education                      798  \n",
       "Comedy                        1114  \n",
       "Autos & Vehicles                34  \n",
       "\n",
       "[17 rows x 22 columns]"
      ]
     },
     "execution_count": 100,
     "metadata": {},
     "output_type": "execute_result"
    }
   ],
   "source": [
    "liked_category = yt_trend_df.groupby('category').count().sort_values('category',ascending=False)\n",
    "liked_category"
   ]
  },
  {
   "cell_type": "code",
   "execution_count": 103,
   "metadata": {},
   "outputs": [
    {
     "data": {
      "text/plain": [
       "Entertainment           7547\n",
       "News & Politics         2505\n",
       "People & Blogs          1232\n",
       "Music                   1213\n",
       "Comedy                  1114\n",
       "Education                798\n",
       "Film & Animation         522\n",
       "Howto & Style            478\n",
       "Sports                   347\n",
       "Science & Technology     300\n",
       "Shows                    121\n",
       "Miscellaneous             69\n",
       "Autos & Vehicles          34\n",
       "Gaming                    20\n",
       "Travel & Events            4\n",
       "Movies                     2\n",
       "Pets & Animals             1\n",
       "Name: category, dtype: int64"
      ]
     },
     "execution_count": 103,
     "metadata": {},
     "output_type": "execute_result"
    }
   ],
   "source": [
    "yt_trend_df[\"category\"].value_counts()"
   ]
  },
  {
   "cell_type": "markdown",
   "metadata": {},
   "source": [
    "#### Entertainment is the most popular category with 7547 videos that reached trending list."
   ]
  },
  {
   "cell_type": "code",
   "execution_count": 101,
   "metadata": {},
   "outputs": [],
   "source": [
    "import jovian"
   ]
  },
  {
   "cell_type": "code",
   "execution_count": null,
   "metadata": {},
   "outputs": [
    {
     "data": {
      "application/javascript": [
       "window.require && require([\"base/js/namespace\"],function(Jupyter){Jupyter.notebook.save_checkpoint()})"
      ],
      "text/plain": [
       "<IPython.core.display.Javascript object>"
      ]
     },
     "metadata": {},
     "output_type": "display_data"
    },
    {
     "name": "stdout",
     "output_type": "stream",
     "text": [
      "[jovian] Attempting to save notebook..\u001b[0m\n"
     ]
    }
   ],
   "source": [
    "jovian.commit()"
   ]
  },
  {
   "cell_type": "markdown",
   "metadata": {},
   "source": [
    "## Inferences and Conclusion\n",
    "\n",
    "YouTube is very data rich platform with tons of data flowing every second. It should be analysed to make better decisions for both the users and the content providers. "
   ]
  },
  {
   "cell_type": "code",
   "execution_count": 30,
   "metadata": {},
   "outputs": [],
   "source": [
    "import jovian"
   ]
  },
  {
   "cell_type": "code",
   "execution_count": 31,
   "metadata": {},
   "outputs": [
    {
     "data": {
      "application/javascript": [
       "window.require && require([\"base/js/namespace\"],function(Jupyter){Jupyter.notebook.save_checkpoint()})"
      ],
      "text/plain": [
       "<IPython.core.display.Javascript object>"
      ]
     },
     "metadata": {},
     "output_type": "display_data"
    },
    {
     "name": "stdout",
     "output_type": "stream",
     "text": [
      "[jovian] Attempting to save notebook..\u001b[0m\n",
      "[jovian] Updating notebook \"aakashns/zerotopandas-course-project-starter\" on https://jovian.ml/\u001b[0m\n",
      "[jovian] Uploading notebook..\u001b[0m\n",
      "[jovian] Capturing environment..\u001b[0m\n",
      "[jovian] Committed successfully! https://jovian.ml/aakashns/zerotopandas-course-project-starter\u001b[0m\n"
     ]
    },
    {
     "data": {
      "text/plain": [
       "'https://jovian.ml/aakashns/zerotopandas-course-project-starter'"
      ]
     },
     "execution_count": 31,
     "metadata": {},
     "output_type": "execute_result"
    }
   ],
   "source": [
    "jovian.commit()"
   ]
  },
  {
   "cell_type": "markdown",
   "metadata": {},
   "source": [
    "## References and Future Work\n",
    "\n",
    "There are a number of ways in which this analysis could move forward. It could be combined with other datasets to produce more inferences and results."
   ]
  },
  {
   "cell_type": "code",
   "execution_count": 94,
   "metadata": {},
   "outputs": [],
   "source": [
    "import jovian"
   ]
  },
  {
   "cell_type": "code",
   "execution_count": 95,
   "metadata": {
    "scrolled": true
   },
   "outputs": [
    {
     "data": {
      "application/javascript": [
       "window.require && require([\"base/js/namespace\"],function(Jupyter){Jupyter.notebook.save_checkpoint()})"
      ],
      "text/plain": [
       "<IPython.core.display.Javascript object>"
      ]
     },
     "metadata": {},
     "output_type": "display_data"
    },
    {
     "name": "stdout",
     "output_type": "stream",
     "text": [
      "[jovian] Attempting to save notebook..\u001b[0m\n",
      "[jovian] Updating notebook \"rijulbathla8/youtube-trending-videos-analysis\" on https://jovian.ml/\u001b[0m\n",
      "[jovian] Uploading notebook..\u001b[0m\n",
      "[jovian] Capturing environment..\u001b[0m\n",
      "[jovian] Committed successfully! https://jovian.ml/rijulbathla8/youtube-trending-videos-analysis\u001b[0m\n"
     ]
    },
    {
     "data": {
      "text/plain": [
       "'https://jovian.ml/rijulbathla8/youtube-trending-videos-analysis'"
      ]
     },
     "execution_count": 95,
     "metadata": {},
     "output_type": "execute_result"
    }
   ],
   "source": [
    "jovian.commit()"
   ]
  },
  {
   "cell_type": "markdown",
   "metadata": {},
   "source": [
    "# Links\n",
    "https://www.machinelearningplus.com/plots/matplotlib-histogram-python-examples/"
   ]
  }
 ],
 "metadata": {
  "language_info": {
   "codemirror_mode": {
    "name": "ipython",
    "version": 3
   },
   "file_extension": ".py",
   "mimetype": "text/x-python",
   "name": "python",
   "nbconvert_exporter": "python",
   "pygments_lexer": "ipython3",
   "version": "3.8.5"
  }
 },
 "nbformat": 4,
 "nbformat_minor": 4
}